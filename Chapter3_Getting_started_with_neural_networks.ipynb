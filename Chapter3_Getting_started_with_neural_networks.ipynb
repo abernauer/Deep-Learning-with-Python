{
  "nbformat": 4,
  "nbformat_minor": 0,
  "metadata": {
    "colab": {
      "name": "Chapter3_Getting_started_with_neural_networks.ipynb",
      "provenance": [],
      "authorship_tag": "ABX9TyNs2ws0GZ1Vq0bcpgzVXWxA",
      "include_colab_link": true
    },
    "kernelspec": {
      "name": "python3",
      "display_name": "Python 3"
    }
  },
  "cells": [
    {
      "cell_type": "markdown",
      "metadata": {
        "id": "view-in-github",
        "colab_type": "text"
      },
      "source": [
        "<a href=\"https://colab.research.google.com/github/abernauer/Deep-Learning-with-Python/blob/master/Chapter3_Getting_started_with_neural_networks.ipynb\" target=\"_parent\"><img src=\"https://colab.research.google.com/assets/colab-badge.svg\" alt=\"Open In Colab\"/></a>"
      ]
    },
    {
      "cell_type": "markdown",
      "metadata": {
        "id": "nfx-vE8r0zt2",
        "colab_type": "text"
      },
      "source": [
        "\n",
        "#Chapter 3 Getting started with neural networks\n"
      ]
    },
    {
      "cell_type": "markdown",
      "metadata": {
        "id": "-hQXwxmv1ZYQ",
        "colab_type": "text"
      },
      "source": [
        "#3.1 Anatomy of a neural networks "
      ]
    },
    {
      "cell_type": "markdown",
      "metadata": {
        "id": "3EWOy38I1jnc",
        "colab_type": "text"
      },
      "source": [
        "Training a neural network revolves around the following objects:\n",
        "\n",
        "* Layers which are combined into a network (or model)\n",
        "* The input data and corresponding targets\n",
        "* The loss function, which defines the feedback signal used for learning.\n",
        "* The optimizer, which determines how learning proceeds."
      ]
    },
    {
      "cell_type": "markdown",
      "metadata": {
        "id": "w5LwzShc2U69",
        "colab_type": "text"
      },
      "source": [
        "Add diagram of the components and how they interact."
      ]
    },
    {
      "cell_type": "markdown",
      "metadata": {
        "id": "CWlHQitz2fyY",
        "colab_type": "text"
      },
      "source": [
        "#3.1.1 Layers the building blocks of deep learning"
      ]
    },
    {
      "cell_type": "markdown",
      "metadata": {
        "id": "DDpqPFk62mhe",
        "colab_type": "text"
      },
      "source": [
        "The fundamental data structure in neural networks is the *layer*, to which you were introduced in chapter 2. A layer is a data-processing module that takes as input one or more tensors and that outputs one or more tensors. Some layers are stateless but more frequently layers have a state: the layer's *weights*, one or several tensors learned with stochastic gradient descent, which together contain the network's *knowledge*. "
      ]
    },
    {
      "cell_type": "markdown",
      "metadata": {
        "id": "ytLYJo0ytNiW",
        "colab_type": "text"
      },
      "source": [
        "Different layers are appropriate for different tensor formats and different types of data processing. For instance, simple vector data, stored in 2D tensors of shape (samples, features), is often processed by *densely connected* layers, also called *fully connected* or *dense* layers. Sequence data, stored in 3D tensors of shape (samples, timesteps, features), is typically processed by *recurrent* layers such as an *LSTM* layer.\n",
        "Image data, stored in 4D tensor, is usually processed by 2D convolution layers."
      ]
    },
    {
      "cell_type": "markdown",
      "metadata": {
        "id": "WAC1oivFu2Ia",
        "colab_type": "text"
      },
      "source": [
        "A metaphor for layers is thinking of them as LEGO bricks for deep learning. Building deep-learning models in Keras is done by clipping together compatible layers to form useful data-transformation pipelines. The notion of layer *compatibility* here refers specifically to the fact that every layer will only accept input tensor of a certain shape and will return output tensors of a certain shape. Example: "
      ]
    },
    {
      "cell_type": "markdown",
      "metadata": {
        "id": "7nmdRQQAwA-b",
        "colab_type": "text"
      },
      "source": [
        "```\n",
        "from keras import layers\n",
        "\n",
        "layer = layers.Dense(32, input_shape=(784,))\n",
        "```"
      ]
    },
    {
      "cell_type": "markdown",
      "metadata": {
        "id": "j4CmDBXfwWyD",
        "colab_type": "text"
      },
      "source": [
        "We're creating a layer that will only accept as input 2D tensors where the first dimension is 784(axis 0, the batch dimension, is unspecified, and thus any value would be accepted.) This layer will return a tensor where the first dimension has been transformed to be 32."
      ]
    },
    {
      "cell_type": "markdown",
      "metadata": {
        "id": "i5jLWc8Dw5vI",
        "colab_type": "text"
      },
      "source": [
        "Thus this layer can only be connected to a downstream layer that expects 32-dimensional vectors as its input. When using Keras, you don't have to worry about compatibility, because the layers you add to your models are dynamically built to match the shape of the incoming layer. For instance, suppose you write the following: "
      ]
    },
    {
      "cell_type": "markdown",
      "metadata": {
        "id": "bYwyIxulyVha",
        "colab_type": "text"
      },
      "source": [
        "```\n",
        "from keras import models\n",
        "from keras import layers\n",
        "\n",
        "model = models.Sequential()\n",
        "model.add(layers.Dense(32, input_shape=(784,)))\n",
        "model.add(layers.Dense(32))\n",
        "```"
      ]
    },
    {
      "cell_type": "markdown",
      "metadata": {
        "id": "gHYc_iOUy-7y",
        "colab_type": "text"
      },
      "source": [
        "The second layer will automatically infer its input shape as being the the output shape of the layer that came before."
      ]
    },
    {
      "cell_type": "markdown",
      "metadata": {
        "id": "QOTWzMAuzTcJ",
        "colab_type": "text"
      },
      "source": [
        "#3.1.2 Models: networks of layers"
      ]
    },
    {
      "cell_type": "markdown",
      "metadata": {
        "id": "zceheV1d0Dq2",
        "colab_type": "text"
      },
      "source": [
        "A deep-learning model is a directed, acyclic graph of layers. The most common instance is a linear stack of layers, mapping a single input to a single output."
      ]
    },
    {
      "cell_type": "markdown",
      "metadata": {
        "id": "ek8rClDZ0c2b",
        "colab_type": "text"
      },
      "source": [
        "Some broader networks include:"
      ]
    },
    {
      "cell_type": "markdown",
      "metadata": {
        "id": "iJGWYNEX0nc9",
        "colab_type": "text"
      },
      "source": [
        "* Two-branch networks\n",
        "* Multihead networks\n",
        "* Inception blocks"
      ]
    },
    {
      "cell_type": "markdown",
      "metadata": {
        "id": "BA5nhR9A0y_Y",
        "colab_type": "text"
      },
      "source": [
        "The topology of a network defines a *hypothesis space*. You may remember that in chapter 1, we defined machine learning as \"searching for useful representations of some input data, within a predefined space of possibilities, using guidance from a feedback signal\". By choosing a network topology, you constrain your *space of possibilities* (hypothesis space) to a specific series of tensor operations, mapping input data to output data. What you'll then be searching for is a good set of values for the weight tensors involved in these tensor operations."
      ]
    },
    {
      "cell_type": "markdown",
      "metadata": {
        "id": "Y-u7zffa28Pb",
        "colab_type": "text"
      },
      "source": [
        "#3.1.3 Loss functions and optimizers: keys to configuring the learning process"
      ]
    },
    {
      "cell_type": "markdown",
      "metadata": {
        "id": "rIH40nrY3H4J",
        "colab_type": "text"
      },
      "source": [
        "Once the network architecture is defined, you still have to choose two more things:"
      ]
    },
    {
      "cell_type": "markdown",
      "metadata": {
        "id": "dOWZEQ763R0L",
        "colab_type": "text"
      },
      "source": [
        "* Loss function (objective function)-- The quantity that will be minimized during training. It represents a measure of success for the task at hand.\n",
        "* Optimizer--Determines how the network will be updated based on the loss function. It implements a specific variant of stochastic gradient descent(SGD)."
      ]
    },
    {
      "cell_type": "markdown",
      "metadata": {
        "id": "zEW1zQ3n31ev",
        "colab_type": "text"
      },
      "source": [
        "Choosing the right objective function for the right problem is extremely important: your network will take any shortcut it can, to minimize the loss; so if the objective doesn't fully correlate with success for the task at hand your network will end up doing things you may not have wanted. "
      ]
    },
    {
      "cell_type": "markdown",
      "metadata": {
        "id": "N1UDh-VV5h0b",
        "colab_type": "text"
      },
      "source": [
        "Guidelines for chosing the correct loss:\n",
        "* binary crossentropy\n",
        "  - two-class classification problem\n",
        "* categorical crossentropy\n",
        "  - many-class classification problem\n",
        "* mean squared error\n",
        "  - regression problems\n",
        "* Connectionist temporal classification\n",
        "  - sequence-learning problem"
      ]
    },
    {
      "cell_type": "markdown",
      "metadata": {
        "id": "WAmTKUn49V_5",
        "colab_type": "text"
      },
      "source": [
        "#3.2.2 Developing with Keras: a quick overview"
      ]
    },
    {
      "cell_type": "markdown",
      "metadata": {
        "id": "OswH9C7CAR9m",
        "colab_type": "text"
      },
      "source": [
        "The typical Keras workflow looks like this:"
      ]
    },
    {
      "cell_type": "markdown",
      "metadata": {
        "id": "L3hWIO5uAct9",
        "colab_type": "text"
      },
      "source": [
        "1. Define your training data: input tensors and target tensors.\n",
        "2. Define a network of layers (or *model*) that maps your inputs to your targets.\n",
        "3. Configure the learning process by choosing a loss function, an optimizer, and some metrics to monitor.\n",
        "4. Iterate on your training data by calling the fit() method of your model."
      ]
    },
    {
      "cell_type": "markdown",
      "metadata": {
        "id": "3HPmQvfRBF3M",
        "colab_type": "text"
      },
      "source": [
        "There are two ways to define a model: using the *Sequential* class(only for linear stacks of layers, which is the most common architecture) or the *functional* API."
      ]
    },
    {
      "cell_type": "markdown",
      "metadata": {
        "id": "eS5dXKiEEA4e",
        "colab_type": "text"
      },
      "source": [
        "As a refresher, here's a two-layer model defined using the *Sequential* class (note that we're passing the expected shape of the input data to the first layer):"
      ]
    },
    {
      "cell_type": "markdown",
      "metadata": {
        "id": "GxiMq3HUEY5X",
        "colab_type": "text"
      },
      "source": [
        "```\n",
        "from keras import models\n",
        "from keras import layers\n",
        "\n",
        "model = models.Sequential()\n",
        "model.add(layers.Dense(32, activation='relu', input_shape=(784,)))\n",
        "model.add(layers.Dense(10, activation='softmax'))\n",
        "```"
      ]
    },
    {
      "cell_type": "markdown",
      "metadata": {
        "id": "mAvkUJj7E-2S",
        "colab_type": "text"
      },
      "source": [
        "And the same model using the functional API:"
      ]
    },
    {
      "cell_type": "markdown",
      "metadata": {
        "id": "RoOpBpnrFEVI",
        "colab_type": "text"
      },
      "source": [
        "```\n",
        "input_tensor = layers.Input(shape=(784,))\n",
        "x = layers.Dense(32, activation='relu')(input_tensor)\n",
        "\n",
        "output_tensor = layers.Dense(10, activation='softmax') (x)\n",
        "model = models.Model(inputs=input_tensor, outputs=output_tensor)\n",
        "\n",
        "```"
      ]
    },
    {
      "cell_type": "markdown",
      "metadata": {
        "id": "K_yYOouBGr0F",
        "colab_type": "text"
      },
      "source": [
        "With the functional API, you're maniplating the data tensors that the model proccesses and applying layers to this tensor as if they were functions."
      ]
    },
    {
      "cell_type": "markdown",
      "metadata": {
        "id": "vKGXgbs2HHcs",
        "colab_type": "text"
      },
      "source": [
        "Once your model architectre is defined, it doesn't matter whether you used a *Sequential* model or the functional API."
      ]
    },
    {
      "cell_type": "markdown",
      "metadata": {
        "id": "dKSsV5S3HV-f",
        "colab_type": "text"
      },
      "source": [
        "The learning process is configured in the compilation step, where you specify the optimizer and loss function(s) that the model should use, as well as the metrics to monitor during training."
      ]
    },
    {
      "cell_type": "markdown",
      "metadata": {
        "id": "BTSF3nTgHtnX",
        "colab_type": "text"
      },
      "source": [
        "```\n",
        "from keras import optimizers\n",
        "\n",
        "model.compile(optimizer=optimizers.RMSprop(lr=0.001),\n",
        "loss='mse',\n",
        "metrics=['accuracy'])\n",
        "```"
      ]
    },
    {
      "cell_type": "markdown",
      "metadata": {
        "id": "-eF_CTn_ISX8",
        "colab_type": "text"
      },
      "source": [
        "Finally, the learning process consists of passing Numpy arrays of input data ( and the corresponding target data) to the model via the fit() method, similar to what you would do in SciKit-Learn."
      ]
    },
    {
      "cell_type": "markdown",
      "metadata": {
        "id": "lP5qEdG4IupH",
        "colab_type": "text"
      },
      "source": [
        "```\n",
        "model.fit(input_tensor, target_tensor, batch_size=128, epochs=10)\n",
        "\n",
        "```"
      ]
    },
    {
      "cell_type": "markdown",
      "metadata": {
        "id": "J1rb1cc7MsTJ",
        "colab_type": "text"
      },
      "source": [
        "#3.4 Classifying movie reviews: a binary classification example"
      ]
    },
    {
      "cell_type": "markdown",
      "metadata": {
        "id": "32MgITYLNB1L",
        "colab_type": "text"
      },
      "source": [
        "Two-class classification, or binary classifictaion, may be the most widely applied kind of machine-learning problem. In this example, you'll learn to classify movie reviews as positive or negative, based on the text contents of the reviews.\n",
        "\n"
      ]
    },
    {
      "cell_type": "markdown",
      "metadata": {
        "id": "l2bTt0znRZx5",
        "colab_type": "text"
      },
      "source": [
        "#3.4.1 The IMDB dataset"
      ]
    },
    {
      "cell_type": "markdown",
      "metadata": {
        "id": "Pny_vNOFRfKu",
        "colab_type": "text"
      },
      "source": [
        "You'll work with th IMDB dataset: as set of 50,000 highly polarized reviews from the Internet Movie Database. They're split into 25,000 reviews for training and 25,000 reviews for testing, each set consisting of 50% negative and 50% positive reviews."
      ]
    },
    {
      "cell_type": "markdown",
      "metadata": {
        "id": "yPlfB_6wUHWN",
        "colab_type": "text"
      },
      "source": [
        "Why use separate training and test sets? Because you should never test a machine learning model on the same data you used to train it! Just because a model performs well on its training data doesn't mean it will perform well on data it has never seen; and what you care about is your model's performance on new data."
      ]
    },
    {
      "cell_type": "markdown",
      "metadata": {
        "id": "98-T_OwtVD2V",
        "colab_type": "text"
      },
      "source": [
        "The following code will load the dataset."
      ]
    },
    {
      "cell_type": "code",
      "metadata": {
        "id": "33ngwhDoNF4a",
        "colab_type": "code",
        "colab": {}
      },
      "source": [
        "from keras.datasets import imdb\n",
        "\n",
        "(train_data, train_labels),  (test_data, test_labels) = imdb.load_data(num_words=10000)"
      ],
      "execution_count": 188,
      "outputs": []
    },
    {
      "cell_type": "markdown",
      "metadata": {
        "id": "9Mt8LIwAWF4f",
        "colab_type": "text"
      },
      "source": [
        "The argument num_words=10000 means you'll only keep the top 10,000 most frequently occurring words in the training data. Rare words will be discarded. This allows you to work with vector data of manageable size."
      ]
    },
    {
      "cell_type": "markdown",
      "metadata": {
        "id": "l6VJ4Fq8XNwT",
        "colab_type": "text"
      },
      "source": [
        "The variables train_data and test_data are lists of reviews; each review is a list of word indices(encoding a sequence of words). train_labels and test_labels are lists of 0s and 1s, where 0 stands for *negative* and 1 stands for *positive*."
      ]
    },
    {
      "cell_type": "code",
      "metadata": {
        "id": "R7buJtq6Nmf9",
        "colab_type": "code",
        "colab": {
          "base_uri": "https://localhost:8080/",
          "height": 0
        },
        "outputId": "74f389d0-0e3f-481a-b512-c736742ef18e"
      },
      "source": [
        "train_data[0]"
      ],
      "execution_count": 189,
      "outputs": [
        {
          "output_type": "execute_result",
          "data": {
            "text/plain": [
              "[1,\n",
              " 14,\n",
              " 22,\n",
              " 16,\n",
              " 43,\n",
              " 530,\n",
              " 973,\n",
              " 1622,\n",
              " 1385,\n",
              " 65,\n",
              " 458,\n",
              " 4468,\n",
              " 66,\n",
              " 3941,\n",
              " 4,\n",
              " 173,\n",
              " 36,\n",
              " 256,\n",
              " 5,\n",
              " 25,\n",
              " 100,\n",
              " 43,\n",
              " 838,\n",
              " 112,\n",
              " 50,\n",
              " 670,\n",
              " 2,\n",
              " 9,\n",
              " 35,\n",
              " 480,\n",
              " 284,\n",
              " 5,\n",
              " 150,\n",
              " 4,\n",
              " 172,\n",
              " 112,\n",
              " 167,\n",
              " 2,\n",
              " 336,\n",
              " 385,\n",
              " 39,\n",
              " 4,\n",
              " 172,\n",
              " 4536,\n",
              " 1111,\n",
              " 17,\n",
              " 546,\n",
              " 38,\n",
              " 13,\n",
              " 447,\n",
              " 4,\n",
              " 192,\n",
              " 50,\n",
              " 16,\n",
              " 6,\n",
              " 147,\n",
              " 2025,\n",
              " 19,\n",
              " 14,\n",
              " 22,\n",
              " 4,\n",
              " 1920,\n",
              " 4613,\n",
              " 469,\n",
              " 4,\n",
              " 22,\n",
              " 71,\n",
              " 87,\n",
              " 12,\n",
              " 16,\n",
              " 43,\n",
              " 530,\n",
              " 38,\n",
              " 76,\n",
              " 15,\n",
              " 13,\n",
              " 1247,\n",
              " 4,\n",
              " 22,\n",
              " 17,\n",
              " 515,\n",
              " 17,\n",
              " 12,\n",
              " 16,\n",
              " 626,\n",
              " 18,\n",
              " 2,\n",
              " 5,\n",
              " 62,\n",
              " 386,\n",
              " 12,\n",
              " 8,\n",
              " 316,\n",
              " 8,\n",
              " 106,\n",
              " 5,\n",
              " 4,\n",
              " 2223,\n",
              " 5244,\n",
              " 16,\n",
              " 480,\n",
              " 66,\n",
              " 3785,\n",
              " 33,\n",
              " 4,\n",
              " 130,\n",
              " 12,\n",
              " 16,\n",
              " 38,\n",
              " 619,\n",
              " 5,\n",
              " 25,\n",
              " 124,\n",
              " 51,\n",
              " 36,\n",
              " 135,\n",
              " 48,\n",
              " 25,\n",
              " 1415,\n",
              " 33,\n",
              " 6,\n",
              " 22,\n",
              " 12,\n",
              " 215,\n",
              " 28,\n",
              " 77,\n",
              " 52,\n",
              " 5,\n",
              " 14,\n",
              " 407,\n",
              " 16,\n",
              " 82,\n",
              " 2,\n",
              " 8,\n",
              " 4,\n",
              " 107,\n",
              " 117,\n",
              " 5952,\n",
              " 15,\n",
              " 256,\n",
              " 4,\n",
              " 2,\n",
              " 7,\n",
              " 3766,\n",
              " 5,\n",
              " 723,\n",
              " 36,\n",
              " 71,\n",
              " 43,\n",
              " 530,\n",
              " 476,\n",
              " 26,\n",
              " 400,\n",
              " 317,\n",
              " 46,\n",
              " 7,\n",
              " 4,\n",
              " 2,\n",
              " 1029,\n",
              " 13,\n",
              " 104,\n",
              " 88,\n",
              " 4,\n",
              " 381,\n",
              " 15,\n",
              " 297,\n",
              " 98,\n",
              " 32,\n",
              " 2071,\n",
              " 56,\n",
              " 26,\n",
              " 141,\n",
              " 6,\n",
              " 194,\n",
              " 7486,\n",
              " 18,\n",
              " 4,\n",
              " 226,\n",
              " 22,\n",
              " 21,\n",
              " 134,\n",
              " 476,\n",
              " 26,\n",
              " 480,\n",
              " 5,\n",
              " 144,\n",
              " 30,\n",
              " 5535,\n",
              " 18,\n",
              " 51,\n",
              " 36,\n",
              " 28,\n",
              " 224,\n",
              " 92,\n",
              " 25,\n",
              " 104,\n",
              " 4,\n",
              " 226,\n",
              " 65,\n",
              " 16,\n",
              " 38,\n",
              " 1334,\n",
              " 88,\n",
              " 12,\n",
              " 16,\n",
              " 283,\n",
              " 5,\n",
              " 16,\n",
              " 4472,\n",
              " 113,\n",
              " 103,\n",
              " 32,\n",
              " 15,\n",
              " 16,\n",
              " 5345,\n",
              " 19,\n",
              " 178,\n",
              " 32]"
            ]
          },
          "metadata": {
            "tags": []
          },
          "execution_count": 189
        }
      ]
    },
    {
      "cell_type": "code",
      "metadata": {
        "id": "ULKLwbx1Nw18",
        "colab_type": "code",
        "colab": {
          "base_uri": "https://localhost:8080/",
          "height": 0
        },
        "outputId": "1725b8e4-9f3e-47bb-c914-20402e650b4a"
      },
      "source": [
        "train_labels[0]"
      ],
      "execution_count": 190,
      "outputs": [
        {
          "output_type": "execute_result",
          "data": {
            "text/plain": [
              "1"
            ]
          },
          "metadata": {
            "tags": []
          },
          "execution_count": 190
        }
      ]
    },
    {
      "cell_type": "code",
      "metadata": {
        "id": "T48W4vZkN1v7",
        "colab_type": "code",
        "colab": {
          "base_uri": "https://localhost:8080/",
          "height": 0
        },
        "outputId": "ff4621be-46e5-4397-e8d7-03891332b388"
      },
      "source": [
        "max([max(sequence) for sequence in train_data])"
      ],
      "execution_count": 191,
      "outputs": [
        {
          "output_type": "execute_result",
          "data": {
            "text/plain": [
              "9999"
            ]
          },
          "metadata": {
            "tags": []
          },
          "execution_count": 191
        }
      ]
    },
    {
      "cell_type": "code",
      "metadata": {
        "id": "aKiXR2NuOcxQ",
        "colab_type": "code",
        "colab": {}
      },
      "source": [
        "word_index = imdb.get_word_index()\n",
        "reverse_word_index = dict([(value, key) for (key, value) in word_index.items()])\n",
        "decoded_review = ' '.join(\n",
        "    [reverse_word_index.get(i - 3, '?') for i in train_data[0]]\n",
        ")"
      ],
      "execution_count": 192,
      "outputs": []
    },
    {
      "cell_type": "markdown",
      "metadata": {
        "id": "4wAv6SW0fShE",
        "colab_type": "text"
      },
      "source": [
        "#3.4.2 Preparing the data"
      ]
    },
    {
      "cell_type": "markdown",
      "metadata": {
        "id": "7C1Ia3gofVx3",
        "colab_type": "text"
      },
      "source": [
        "You can't feed lists of integers into a neural networks. You have to turn your lists into tensors. There are two ways to do that:"
      ]
    },
    {
      "cell_type": "markdown",
      "metadata": {
        "id": "z8kbHXcbfiYG",
        "colab_type": "text"
      },
      "source": [
        "* Pad your lists so that they all have the same length, turn them into an integer tensor of shape (samples, word_indices), and then use as the first layer in your network a layer capable of handling such integer tensors ( the Embedding layer, which we'll cover in detail later in the book).\n",
        "\n",
        "* One-hot encode your lists to turn them into vectors of 0s and 1s. This would mean, for instance, turning the sequence [3, 5] into a 10,000-dimensional vector that would be all 0s except for indices 3 and 5, which would be 1s. Then you could use as the first layer in your network a *Dense* layer, capable of handling floating-point vector data."
      ]
    },
    {
      "cell_type": "code",
      "metadata": {
        "id": "0rvsM0jYhqVk",
        "colab_type": "code",
        "colab": {}
      },
      "source": [
        "import numpy as np\n",
        "\n",
        "def vectorize_sequences(sequences, dimension=10000):\n",
        "    results = np.zeros((len(sequences), dimension))\n",
        "    for i, sequence in enumerate(sequences):\n",
        "        results[i, sequence] = 1\n",
        "    return results\n",
        "\n",
        "x_train = vectorize_sequences(train_data)\n",
        "x_test = vectorize_sequences(test_data)"
      ],
      "execution_count": 193,
      "outputs": []
    },
    {
      "cell_type": "markdown",
      "metadata": {
        "id": "Lfybgc35jJSu",
        "colab_type": "text"
      },
      "source": [
        "What the samples look like now:"
      ]
    },
    {
      "cell_type": "code",
      "metadata": {
        "id": "-fhTr1WzjNWy",
        "colab_type": "code",
        "colab": {
          "base_uri": "https://localhost:8080/",
          "height": 0
        },
        "outputId": "d8e5d091-02e8-41fa-dbaa-bc7fd3c97c5c"
      },
      "source": [
        "x_train[0]"
      ],
      "execution_count": 194,
      "outputs": [
        {
          "output_type": "execute_result",
          "data": {
            "text/plain": [
              "array([0., 1., 1., ..., 0., 0., 0.])"
            ]
          },
          "metadata": {
            "tags": []
          },
          "execution_count": 194
        }
      ]
    },
    {
      "cell_type": "markdown",
      "metadata": {
        "id": "2a3eflPkjSx5",
        "colab_type": "text"
      },
      "source": [
        "We should also vectorize the lables:"
      ]
    },
    {
      "cell_type": "code",
      "metadata": {
        "id": "ORTgIZiQjZjO",
        "colab_type": "code",
        "colab": {}
      },
      "source": [
        "y_train = np.array(train_labels).astype('float32')\n",
        "y_test = np.array(test_labels).astype('float32')"
      ],
      "execution_count": 195,
      "outputs": []
    },
    {
      "cell_type": "markdown",
      "metadata": {
        "id": "GVSYy74hjtRh",
        "colab_type": "text"
      },
      "source": [
        "No we can build our network."
      ]
    },
    {
      "cell_type": "markdown",
      "metadata": {
        "id": "Q32mNdGDjxyA",
        "colab_type": "text"
      },
      "source": [
        "#3.4.3 Building your network"
      ]
    },
    {
      "cell_type": "markdown",
      "metadata": {
        "id": "P8tw4lm8l6Kw",
        "colab_type": "text"
      },
      "source": [
        "The input data is vectors, and the labels are scalars(1s and 0s): this is the easiest setup you'll ever encounter. A type of network that performs well on such a problem is a simple stack of fully connected (Dense) layers with *relu* activations: Dense(16,activation='relu').\n"
      ]
    },
    {
      "cell_type": "markdown",
      "metadata": {
        "id": "oigAEFNimek8",
        "colab_type": "text"
      },
      "source": [
        "The argument being passed to each Dense layer (16) is the number of hidden units of the layer. A *hidden unit* is a dimension in the representation space of the layer. You may remember from chapter 2 that each *Dense* layer with a relu activation implements the following chain of tensor operations:\n",
        "```\n",
        "output = relu(dot(W, input) + b)\n",
        "```"
      ]
    },
    {
      "cell_type": "markdown",
      "metadata": {
        "id": "U0MZxHIonRSI",
        "colab_type": "text"
      },
      "source": [
        "Having 16 hidden units means the weight matrix *W* will have shape(input_dimension, 16): the dot product with *W* will project the input data onto a 16-dimensional representation space. You can intuitively understand the dimensionality of your representation space as \"how much freedom you're allowing the network to have when learning the internal representations.\""
      ]
    },
    {
      "cell_type": "markdown",
      "metadata": {
        "id": "282Wy18toNp6",
        "colab_type": "text"
      },
      "source": [
        "There are two key architecture decisions to be made about such a stack of *Dense* layers:\n",
        "\n",
        "* How many layers to use\n",
        "* How many hidden units to choose for each layer"
      ]
    },
    {
      "cell_type": "markdown",
      "metadata": {
        "id": "DgQ8IL9VolSp",
        "colab_type": "text"
      },
      "source": [
        "More on this in chapter 4 we will us the following architecture:"
      ]
    },
    {
      "cell_type": "markdown",
      "metadata": {
        "id": "pIDYowA1otfg",
        "colab_type": "text"
      },
      "source": [
        "* Two intermediate layers with 16 hidden units each\n",
        "* A third layer that will output the scalar prediction regarding the sentiment of the current review."
      ]
    },
    {
      "cell_type": "markdown",
      "metadata": {
        "id": "AHmu1WToqwiu",
        "colab_type": "text"
      },
      "source": [
        "The intermediate layers will use *relu* as their activation function, and the final layer will use a sigmoid activation so as to output a probability (a score between 0 and 1, indicating how likely the sample is to have the target \"1\": how likely the review is to be positive). A *relu* (rectified linear unit) is a function meant ot zero out negative values whereas a sigmoid \"squashes\" arbitrary values into the [0, 1] interval, outputting something that can be interpreted as a probability."
      ]
    },
    {
      "cell_type": "code",
      "metadata": {
        "id": "El2_IwpPr0-D",
        "colab_type": "code",
        "colab": {}
      },
      "source": [
        "from keras import models\n",
        "from keras import layers\n",
        "\n",
        "model = models.Sequential()\n",
        "model.add(layers.Dense(16, activation='relu', input_shape=(10000,)))\n",
        "model.add(layers.Dense(16, activation='relu'))\n",
        "model.add(layers.Dense(1, activation='sigmoid'))"
      ],
      "execution_count": 196,
      "outputs": []
    },
    {
      "cell_type": "markdown",
      "metadata": {
        "id": "74k3nlv2stwa",
        "colab_type": "text"
      },
      "source": [
        "It is key to you use an activation function as it allows for non-linear transformations of the hypothesis space. "
      ]
    },
    {
      "cell_type": "markdown",
      "metadata": {
        "id": "7gh3BvGNs8bU",
        "colab_type": "text"
      },
      "source": [
        "Finally, we choose a loss function and an optimizer. "
      ]
    },
    {
      "cell_type": "code",
      "metadata": {
        "id": "LAAr7iLntIts",
        "colab_type": "code",
        "colab": {}
      },
      "source": [
        "model.compile(optimizer='rmsprop',\n",
        "              loss='binary_crossentropy',\n",
        "              metrics=['accuracy'])"
      ],
      "execution_count": 197,
      "outputs": []
    },
    {
      "cell_type": "markdown",
      "metadata": {
        "id": "80B8uQQzvRlb",
        "colab_type": "text"
      },
      "source": [
        "#3.4.4 Validating your approach"
      ]
    },
    {
      "cell_type": "markdown",
      "metadata": {
        "id": "nP0Z1g4DvrYr",
        "colab_type": "text"
      },
      "source": [
        "In order to monitor during training the accuracy of the model on data it has never seen before, you'll create a validation set by setting apart 10,000 samples from the orginal training data."
      ]
    },
    {
      "cell_type": "code",
      "metadata": {
        "id": "gl2mZLGKwBBM",
        "colab_type": "code",
        "colab": {}
      },
      "source": [
        "x_val = x_train[:10000]\n",
        "partial_x_train = x_train[10000:]\n",
        "y_val = y_train[:10000]\n",
        "partial_y_train = y_train[10000:]"
      ],
      "execution_count": 198,
      "outputs": []
    },
    {
      "cell_type": "markdown",
      "metadata": {
        "id": "OgtY6x91wj9o",
        "colab_type": "text"
      },
      "source": [
        ""
      ]
    },
    {
      "cell_type": "code",
      "metadata": {
        "id": "FHMJtmMDwlxZ",
        "colab_type": "code",
        "colab": {
          "base_uri": "https://localhost:8080/",
          "height": 0
        },
        "outputId": "60348f58-5bf6-4db1-8186-2c88581928dc"
      },
      "source": [
        "model.compile(optimizer='rmsprop',\n",
        "              loss='binary_crossentropy',\n",
        "              metrics=['acc'])\n",
        "\n",
        "history = model.fit(partial_x_train,\n",
        "                    partial_y_train,\n",
        "                    epochs=20,\n",
        "                    batch_size=512,\n",
        "                    validation_data=(x_val, y_val))"
      ],
      "execution_count": 199,
      "outputs": [
        {
          "output_type": "stream",
          "text": [
            "Train on 15000 samples, validate on 10000 samples\n",
            "Epoch 1/20\n",
            "15000/15000 [==============================] - 2s 144us/step - loss: 0.5291 - acc: 0.7636 - val_loss: 0.3988 - val_acc: 0.8702\n",
            "Epoch 2/20\n",
            "15000/15000 [==============================] - 2s 116us/step - loss: 0.3117 - acc: 0.9062 - val_loss: 0.3189 - val_acc: 0.8798\n",
            "Epoch 3/20\n",
            "15000/15000 [==============================] - 2s 115us/step - loss: 0.2275 - acc: 0.9289 - val_loss: 0.2855 - val_acc: 0.8891\n",
            "Epoch 4/20\n",
            "15000/15000 [==============================] - 2s 118us/step - loss: 0.1794 - acc: 0.9433 - val_loss: 0.2742 - val_acc: 0.8931\n",
            "Epoch 5/20\n",
            "15000/15000 [==============================] - 2s 115us/step - loss: 0.1504 - acc: 0.9524 - val_loss: 0.2799 - val_acc: 0.8906\n",
            "Epoch 6/20\n",
            "15000/15000 [==============================] - 2s 116us/step - loss: 0.1205 - acc: 0.9648 - val_loss: 0.3149 - val_acc: 0.8778\n",
            "Epoch 7/20\n",
            "15000/15000 [==============================] - 2s 118us/step - loss: 0.1017 - acc: 0.9701 - val_loss: 0.3198 - val_acc: 0.8790\n",
            "Epoch 8/20\n",
            "15000/15000 [==============================] - 2s 117us/step - loss: 0.0848 - acc: 0.9777 - val_loss: 0.3291 - val_acc: 0.8799\n",
            "Epoch 9/20\n",
            "15000/15000 [==============================] - 2s 117us/step - loss: 0.0713 - acc: 0.9810 - val_loss: 0.3462 - val_acc: 0.8806\n",
            "Epoch 10/20\n",
            "15000/15000 [==============================] - 2s 118us/step - loss: 0.0571 - acc: 0.9865 - val_loss: 0.4417 - val_acc: 0.8624\n",
            "Epoch 11/20\n",
            "15000/15000 [==============================] - 2s 115us/step - loss: 0.0503 - acc: 0.9877 - val_loss: 0.4047 - val_acc: 0.8750\n",
            "Epoch 12/20\n",
            "15000/15000 [==============================] - 2s 116us/step - loss: 0.0395 - acc: 0.9920 - val_loss: 0.4523 - val_acc: 0.8675\n",
            "Epoch 13/20\n",
            "15000/15000 [==============================] - 2s 114us/step - loss: 0.0337 - acc: 0.9935 - val_loss: 0.4552 - val_acc: 0.8729\n",
            "Epoch 14/20\n",
            "15000/15000 [==============================] - 2s 114us/step - loss: 0.0257 - acc: 0.9957 - val_loss: 0.4827 - val_acc: 0.8729\n",
            "Epoch 15/20\n",
            "15000/15000 [==============================] - 2s 117us/step - loss: 0.0217 - acc: 0.9964 - val_loss: 0.5800 - val_acc: 0.8592\n",
            "Epoch 16/20\n",
            "15000/15000 [==============================] - 2s 118us/step - loss: 0.0173 - acc: 0.9974 - val_loss: 0.5435 - val_acc: 0.8689\n",
            "Epoch 17/20\n",
            "15000/15000 [==============================] - 2s 117us/step - loss: 0.0128 - acc: 0.9987 - val_loss: 0.5786 - val_acc: 0.8686\n",
            "Epoch 18/20\n",
            "15000/15000 [==============================] - 2s 117us/step - loss: 0.0131 - acc: 0.9977 - val_loss: 0.6149 - val_acc: 0.8680\n",
            "Epoch 19/20\n",
            "15000/15000 [==============================] - 2s 115us/step - loss: 0.0064 - acc: 0.9999 - val_loss: 0.6433 - val_acc: 0.8666\n",
            "Epoch 20/20\n",
            "15000/15000 [==============================] - 2s 116us/step - loss: 0.0110 - acc: 0.9972 - val_loss: 0.6752 - val_acc: 0.8664\n"
          ],
          "name": "stdout"
        }
      ]
    },
    {
      "cell_type": "code",
      "metadata": {
        "id": "0EVDxQplxz41",
        "colab_type": "code",
        "colab": {}
      },
      "source": [
        "history_dict = history.history"
      ],
      "execution_count": 200,
      "outputs": []
    },
    {
      "cell_type": "code",
      "metadata": {
        "id": "rNjVs-Nhx-C5",
        "colab_type": "code",
        "colab": {
          "base_uri": "https://localhost:8080/",
          "height": 0
        },
        "outputId": "c1492959-d62e-4aa5-8e36-c4e072fcde5b"
      },
      "source": [
        "history_dict.keys()"
      ],
      "execution_count": 201,
      "outputs": [
        {
          "output_type": "execute_result",
          "data": {
            "text/plain": [
              "dict_keys(['val_loss', 'val_acc', 'loss', 'acc'])"
            ]
          },
          "metadata": {
            "tags": []
          },
          "execution_count": 201
        }
      ]
    },
    {
      "cell_type": "code",
      "metadata": {
        "id": "d_N2-ydXySOX",
        "colab_type": "code",
        "colab": {
          "base_uri": "https://localhost:8080/",
          "height": 0
        },
        "outputId": "6c43ebff-f0cb-481c-d5d5-bfb8cfe427fc"
      },
      "source": [
        "import matplotlib.pyplot as plt\n",
        "\n",
        "history_dict = history.history\n",
        "loss_values = history_dict['loss']\n",
        "val_loss_values = history_dict['val_loss']\n",
        "\n",
        "epochs = range(1, len(loss_values) + 1)\n",
        "plt.plot(epochs, loss_values, 'bo', label='Training loss')\n",
        "plt.plot(epochs, val_loss_values, 'b', label='Validation loss')\n",
        "plt.title('Training and validation loss')\n",
        "plt.xlabel('Epochs')\n",
        "plt.ylabel('Loss')\n",
        "plt.legend()\n",
        "\n",
        "plt.show()"
      ],
      "execution_count": 202,
      "outputs": [
        {
          "output_type": "display_data",
          "data": {
            "image/png": "[encoded data removed]",
            "text/plain": [
              "<Figure size 432x288 with 1 Axes>"
            ]
          },
          "metadata": {
            "tags": [],
            "needs_background": "light"
          }
        }
      ]
    },
    {
      "cell_type": "code",
      "metadata": {
        "id": "tk2DTffsFgKD",
        "colab_type": "code",
        "colab": {
          "base_uri": "https://localhost:8080/",
          "height": 0
        },
        "outputId": "4f621d8f-c519-4368-ce93-80ee13910670"
      },
      "source": [
        "plt.clf()\n",
        "acc = history_dict['acc']\n",
        "val_acc = history_dict['val_acc']\n",
        "\n",
        "plt.plot(epochs, acc, 'bo', label='Training acc')\n",
        "plt.plot(epochs, val_acc, 'b', label='Validation acc')\n",
        "plt.title('Training and validation accuracy')\n",
        "plt.xlabel('Epochs')\n",
        "plt.ylabel('Accuracy')\n",
        "plt.legend()\n",
        "\n",
        "plt.show()"
      ],
      "execution_count": 203,
      "outputs": [
        {
          "output_type": "display_data",
          "data": {
            "image/png": "[encoded data removed]",
            "text/plain": [
              "<Figure size 432x288 with 1 Axes>"
            ]
          },
          "metadata": {
            "tags": [],
            "needs_background": "light"
          }
        }
      ]
    },
    {
      "cell_type": "markdown",
      "metadata": {
        "id": "nHyr91DaHEz7",
        "colab_type": "text"
      },
      "source": [
        "Training loss decreases with every epoch, and the training accuracy increases with every epoch. This is a sign of overfitting. Let's limit the network to 4 epochs and see how it performs."
      ]
    },
    {
      "cell_type": "code",
      "metadata": {
        "id": "PENFbec5H9Mz",
        "colab_type": "code",
        "colab": {
          "base_uri": "https://localhost:8080/",
          "height": 0
        },
        "outputId": "692d3401-a470-46d7-824d-0d03d8a7874b"
      },
      "source": [
        "model = models.Sequential()\n",
        "model.add(layers.Dense(16, activation='relu', input_shape=(10000,)))\n",
        "model.add(layers.Dense(16, activation='relu'))\n",
        "model.add(layers.Dense(1, activation='sigmoid'))\n",
        "\n",
        "model.compile(optimizer='rmsprop',\n",
        "             loss='binary_crossentropy',\n",
        "             metrics=['accuracy'])\n",
        "\n",
        "model.fit(x_train, y_train, epochs=4, batch_size=512)\n",
        "results = model.evaluate(x_test, y_test)"
      ],
      "execution_count": 204,
      "outputs": [
        {
          "output_type": "stream",
          "text": [
            "Epoch 1/4\n",
            "25000/25000 [==============================] - 2s 87us/step - loss: 0.4568 - accuracy: 0.8093\n",
            "Epoch 2/4\n",
            "25000/25000 [==============================] - 2s 81us/step - loss: 0.2645 - accuracy: 0.9103\n",
            "Epoch 3/4\n",
            "25000/25000 [==============================] - 2s 94us/step - loss: 0.2018 - accuracy: 0.9276\n",
            "Epoch 4/4\n",
            "25000/25000 [==============================] - 2s 81us/step - loss: 0.1691 - accuracy: 0.9387\n",
            "25000/25000 [==============================] - 2s 69us/step\n"
          ],
          "name": "stdout"
        }
      ]
    },
    {
      "cell_type": "code",
      "metadata": {
        "id": "otCaBDX6JfpK",
        "colab_type": "code",
        "colab": {
          "base_uri": "https://localhost:8080/",
          "height": 0
        },
        "outputId": "af4f6556-f5db-4b2d-bab2-9be8ef7ebb2a"
      },
      "source": [
        "results"
      ],
      "execution_count": 205,
      "outputs": [
        {
          "output_type": "execute_result",
          "data": {
            "text/plain": [
              "[0.31172682847976685, 0.8769999742507935]"
            ]
          },
          "metadata": {
            "tags": []
          },
          "execution_count": 205
        }
      ]
    },
    {
      "cell_type": "markdown",
      "metadata": {
        "id": "GSmb6hbXJl-h",
        "colab_type": "text"
      },
      "source": [
        "The final results acheive an accuracy of 86%."
      ]
    },
    {
      "cell_type": "markdown",
      "metadata": {
        "id": "FbUpgvrvT2Sk",
        "colab_type": "text"
      },
      "source": [
        "#3.4.5 Using a trained network to generate predictions on new data"
      ]
    },
    {
      "cell_type": "markdown",
      "metadata": {
        "id": "C1D-hqCOUKm7",
        "colab_type": "text"
      },
      "source": [
        "You can generate the likelihood of reviews being positive by using the *predict* method:"
      ]
    },
    {
      "cell_type": "code",
      "metadata": {
        "id": "E6u3rLulUYpo",
        "colab_type": "code",
        "colab": {
          "base_uri": "https://localhost:8080/",
          "height": 0
        },
        "outputId": "f05fd162-287f-4154-9654-5343e28f5a56"
      },
      "source": [
        "model.predict(x_test)"
      ],
      "execution_count": 206,
      "outputs": [
        {
          "output_type": "execute_result",
          "data": {
            "text/plain": [
              "array([[0.2684908 ],\n",
              "       [0.9986241 ],\n",
              "       [0.974717  ],\n",
              "       ...,\n",
              "       [0.2534803 ],\n",
              "       [0.12206686],\n",
              "       [0.7677798 ]], dtype=float32)"
            ]
          },
          "metadata": {
            "tags": []
          },
          "execution_count": 206
        }
      ]
    },
    {
      "cell_type": "markdown",
      "metadata": {
        "id": "02RLfystYGBc",
        "colab_type": "text"
      },
      "source": [
        "#3.4.6 Further experiments"
      ]
    },
    {
      "cell_type": "markdown",
      "metadata": {
        "id": "pTHppvxZYuVG",
        "colab_type": "text"
      },
      "source": [
        "fill in later"
      ]
    },
    {
      "cell_type": "markdown",
      "metadata": {
        "id": "9vngs0bHYwbC",
        "colab_type": "text"
      },
      "source": [
        "#3.4.7 Wrapping up"
      ]
    },
    {
      "cell_type": "markdown",
      "metadata": {
        "id": "3m9BB_l9Y1Zq",
        "colab_type": "text"
      },
      "source": [
        "Fill in later"
      ]
    },
    {
      "cell_type": "markdown",
      "metadata": {
        "id": "5oTCDDQlY5cf",
        "colab_type": "text"
      },
      "source": [
        "#3.5 Classifying newswires: a multiclass classification example"
      ]
    },
    {
      "cell_type": "markdown",
      "metadata": {
        "id": "RDhC9dxxZhco",
        "colab_type": "text"
      },
      "source": [
        "In the previous section, you saw how to classify vector inputs into two mutually exclusive classes using a densely connected neural network. But what happens when you have more than two classes?"
      ]
    },
    {
      "cell_type": "markdown",
      "metadata": {
        "id": "OTKPYb0SZ66h",
        "colab_type": "text"
      },
      "source": [
        "In this section, you'll build a network to classify Reuters newswires into 46 mutually exclusive topics. Because you have many classes, this problem is an instance of *multiclass classification*; and because each data point should be classified into only one category, the problem is more specifically an instance of *single-label, multiclass classification*. If each data point could belong to multiple categories, you'd be facing a *multilabel, multiclass classification* problem."
      ]
    },
    {
      "cell_type": "markdown",
      "metadata": {
        "id": "ksrorcK8bZDg",
        "colab_type": "text"
      },
      "source": [
        "#3.5.1 The Reuters dataset"
      ]
    },
    {
      "cell_type": "markdown",
      "metadata": {
        "id": "NsWpGTi0dLoi",
        "colab_type": "text"
      },
      "source": [
        "You'll work with the *Reuters* dataset, a set of short newswires and their topics, published by Reuters in 1986. It's a simple, widely used toy dataset for text classification. There are 46 different topics; some topics are more represented than others, but each topic has at least 10 examples in the training set."
      ]
    },
    {
      "cell_type": "code",
      "metadata": {
        "id": "KkKALCDvxQc_",
        "colab_type": "code",
        "colab": {}
      },
      "source": [
        "from keras.datasets import reuters\n",
        "\n",
        "(train_data, train_labels), (test_data, test_labels) = reuters.load_data(num_words=10000)"
      ],
      "execution_count": 207,
      "outputs": []
    },
    {
      "cell_type": "markdown",
      "metadata": {
        "id": "Yd5oVruvxwLv",
        "colab_type": "text"
      },
      "source": [
        "I am restricting the the data to the 10,000 most frequently occurring words found in the data with the argument num_words=10000."
      ]
    },
    {
      "cell_type": "code",
      "metadata": {
        "id": "IXYgx7fiyYTo",
        "colab_type": "code",
        "colab": {
          "base_uri": "https://localhost:8080/",
          "height": 0
        },
        "outputId": "48b5186d-9cae-419f-d220-4b584728e32b"
      },
      "source": [
        "len(train_data)"
      ],
      "execution_count": 208,
      "outputs": [
        {
          "output_type": "execute_result",
          "data": {
            "text/plain": [
              "8982"
            ]
          },
          "metadata": {
            "tags": []
          },
          "execution_count": 208
        }
      ]
    },
    {
      "cell_type": "code",
      "metadata": {
        "id": "dtozn2-EycsB",
        "colab_type": "code",
        "colab": {
          "base_uri": "https://localhost:8080/",
          "height": 0
        },
        "outputId": "63f63303-a86d-45f5-b68b-5993139dc503"
      },
      "source": [
        "len(test_data)"
      ],
      "execution_count": 209,
      "outputs": [
        {
          "output_type": "execute_result",
          "data": {
            "text/plain": [
              "2246"
            ]
          },
          "metadata": {
            "tags": []
          },
          "execution_count": 209
        }
      ]
    },
    {
      "cell_type": "markdown",
      "metadata": {
        "id": "ng0nOplZyhSs",
        "colab_type": "text"
      },
      "source": [
        "Each example is a list of integers:"
      ]
    },
    {
      "cell_type": "code",
      "metadata": {
        "id": "FUTFyQYMynuv",
        "colab_type": "code",
        "colab": {
          "base_uri": "https://localhost:8080/",
          "height": 0
        },
        "outputId": "33abdda4-17ce-4af3-dfcc-9003a9e10480"
      },
      "source": [
        "train_data[10]"
      ],
      "execution_count": 210,
      "outputs": [
        {
          "output_type": "execute_result",
          "data": {
            "text/plain": [
              "[1,\n",
              " 245,\n",
              " 273,\n",
              " 207,\n",
              " 156,\n",
              " 53,\n",
              " 74,\n",
              " 160,\n",
              " 26,\n",
              " 14,\n",
              " 46,\n",
              " 296,\n",
              " 26,\n",
              " 39,\n",
              " 74,\n",
              " 2979,\n",
              " 3554,\n",
              " 14,\n",
              " 46,\n",
              " 4689,\n",
              " 4329,\n",
              " 86,\n",
              " 61,\n",
              " 3499,\n",
              " 4795,\n",
              " 14,\n",
              " 61,\n",
              " 451,\n",
              " 4329,\n",
              " 17,\n",
              " 12]"
            ]
          },
          "metadata": {
            "tags": []
          },
          "execution_count": 210
        }
      ]
    },
    {
      "cell_type": "code",
      "metadata": {
        "id": "cxbeKMFXy8nU",
        "colab_type": "code",
        "colab": {}
      },
      "source": [
        "word_index = reuters.get_word_index()\n",
        "reverse_word_index = dict([value, key ] for (key, value) in word_index.items())\n",
        "decoded_newswire = ' '.join([reverse_word_index.get(i - 3, '?') for i in train_data[0]])"
      ],
      "execution_count": 211,
      "outputs": []
    },
    {
      "cell_type": "code",
      "metadata": {
        "id": "M5kqBvLrzvjC",
        "colab_type": "code",
        "colab": {
          "base_uri": "https://localhost:8080/",
          "height": 0
        },
        "outputId": "256620a0-ebfe-4ebb-94ff-14731cd843ea"
      },
      "source": [
        "train_labels[10]"
      ],
      "execution_count": 212,
      "outputs": [
        {
          "output_type": "execute_result",
          "data": {
            "text/plain": [
              "3"
            ]
          },
          "metadata": {
            "tags": []
          },
          "execution_count": 212
        }
      ]
    },
    {
      "cell_type": "markdown",
      "metadata": {
        "id": "33K0T5CV0GtM",
        "colab_type": "text"
      },
      "source": [
        "#3.5.2 Preparing the data"
      ]
    },
    {
      "cell_type": "markdown",
      "metadata": {
        "id": "EhQdKQ8S2Uyl",
        "colab_type": "text"
      },
      "source": [
        "We can use the same code snippet to vectorize the data."
      ]
    },
    {
      "cell_type": "code",
      "metadata": {
        "id": "AdWxiivI0Fe7",
        "colab_type": "code",
        "colab": {}
      },
      "source": [
        "import numpy as np\n",
        "\n",
        "def vectorize_sequences(sequences, dimension=10000):\n",
        "    results = np.zeros((len(sequences), dimension))\n",
        "    for i, sequence in enumerate(sequences):\n",
        "        results[i, sequence] = 1\n",
        "    return results\n",
        "\n",
        "x_train = vectorize_sequences(train_data)\n",
        "x_test = vectorize_sequences(test_data)"
      ],
      "execution_count": 213,
      "outputs": []
    },
    {
      "cell_type": "markdown",
      "metadata": {
        "id": "bLjvxApk3gcV",
        "colab_type": "text"
      },
      "source": [
        "In terms of vectorizing the labels we will use one-hot encoding. One-hot encoding is a widely used for categorical data, also called *categorical encoding*. Here's an example:"
      ]
    },
    {
      "cell_type": "code",
      "metadata": {
        "id": "xnhgvbTCCLc1",
        "colab_type": "code",
        "colab": {}
      },
      "source": [
        "def to_one_hot(labels, dimension=46):\n",
        "    results = np.zeros((len(labels), dimension))\n",
        "    for i, label in enumerate(labels):\n",
        "        results[i, label] = 1\n",
        "    return results\n",
        "\n",
        "one_hot_train_labels = to_one_hot(train_labels)\n",
        "one_hot_test_labels = to_one_hot(train_labels)"
      ],
      "execution_count": 214,
      "outputs": []
    },
    {
      "cell_type": "markdown",
      "metadata": {
        "id": "pQ7MMuGSDdsD",
        "colab_type": "text"
      },
      "source": [
        "Keras has this functionality built in:"
      ]
    },
    {
      "cell_type": "markdown",
      "metadata": {
        "id": "J_0vzonGDlRN",
        "colab_type": "text"
      },
      "source": [
        "```\n",
        "from keras.utils.np_utils import to_categorical\n",
        "\n",
        "one_hot_train_labels = to_categorical(train_labels)\n",
        "one_hot_test_labels = to_categorical(test_labels)\n",
        "\n",
        "```"
      ]
    },
    {
      "cell_type": "markdown",
      "metadata": {
        "id": "EH_Ho3BBEBIE",
        "colab_type": "text"
      },
      "source": [
        "#3.5.3 Building your network"
      ]
    },
    {
      "cell_type": "markdown",
      "metadata": {
        "id": "YPKK8oJiF4YZ",
        "colab_type": "text"
      },
      "source": [
        "This topic-classification problem is similar to our previous classification problem. The new constraint here: the number of output classes has gone from 2 to 46. The dimensionality of the output space is much larger."
      ]
    },
    {
      "cell_type": "markdown",
      "metadata": {
        "id": "877R3Da_GdjQ",
        "colab_type": "text"
      },
      "source": [
        "As we have a larger number of output classes we need to up the dimensionality of our Dense layers so we don't lose relevant information between layers. We will go with 64 units."
      ]
    },
    {
      "cell_type": "code",
      "metadata": {
        "id": "LXcBCpSVG36V",
        "colab_type": "code",
        "colab": {}
      },
      "source": [
        "from keras import models\n",
        "from keras import layers\n",
        "\n",
        "model = models.Sequential()\n",
        "model.add(layers.Dense(64, activation='relu', input_shape=(10000,)))\n",
        "model.add(layers.Dense(64, activation='relu'))\n",
        "model.add(layers.Dense(46, activation='softmax'))\n"
      ],
      "execution_count": 215,
      "outputs": []
    },
    {
      "cell_type": "markdown",
      "metadata": {
        "id": "xAYmV6cKHnEo",
        "colab_type": "text"
      },
      "source": [
        "* The last layer of the network has a size of 46. For each input sample, the network will output a 46-dimensional vector. Each entry will encode a different output class.\n",
        "* The softmax activation will output a *probability distribution* over the 46 different output classes-for every input sample. The 46 scores will sum to 1."
      ]
    },
    {
      "cell_type": "markdown",
      "metadata": {
        "id": "lIKE30DrIuK6",
        "colab_type": "text"
      },
      "source": [
        "The best loss function to use in this case is *categorical_crossentropy* It measures the distance between two probability distributions: here, between the probability distribution output by the network and the true distribution of the labels. "
      ]
    },
    {
      "cell_type": "code",
      "metadata": {
        "id": "mtnTjzqpJgYY",
        "colab_type": "code",
        "colab": {}
      },
      "source": [
        "model.compile(optimizer='rmsprop',\n",
        "              loss='categorical_crossentropy',\n",
        "              metrics=['accuracy'])"
      ],
      "execution_count": 216,
      "outputs": []
    },
    {
      "cell_type": "markdown",
      "metadata": {
        "id": "8OAC4b4VKBm9",
        "colab_type": "text"
      },
      "source": [
        "#3.5.4 Validating your approach"
      ]
    },
    {
      "cell_type": "markdown",
      "metadata": {
        "id": "smorjHbGML-g",
        "colab_type": "text"
      },
      "source": [
        "We set apart 1,000 sample in the training data as a validation set."
      ]
    },
    {
      "cell_type": "code",
      "metadata": {
        "id": "obPvYvxJMXrA",
        "colab_type": "code",
        "colab": {}
      },
      "source": [
        "x_val = x_train[:1000]\n",
        "partial_x_train = x_train[1000:]\n",
        "\n",
        "y_val = one_hot_train_labels[:1000]\n",
        "partial_y_train = one_hot_train_labels[1000:]"
      ],
      "execution_count": 217,
      "outputs": []
    },
    {
      "cell_type": "markdown",
      "metadata": {
        "id": "OM6KD32SNCJ4",
        "colab_type": "text"
      },
      "source": [
        "Now, train the network for 20 iterations or epochs."
      ]
    },
    {
      "cell_type": "code",
      "metadata": {
        "id": "4K1jhfJzNJcR",
        "colab_type": "code",
        "colab": {
          "base_uri": "https://localhost:8080/",
          "height": 755
        },
        "outputId": "4401a513-8e61-44c5-990f-730d3ca85214"
      },
      "source": [
        "history = model.fit(partial_x_train,\n",
        "                    partial_y_train,\n",
        "                    epochs=20,\n",
        "                    batch_size=512,\n",
        "                    validation_data=(x_val, y_val))"
      ],
      "execution_count": 218,
      "outputs": [
        {
          "output_type": "stream",
          "text": [
            "Train on 7982 samples, validate on 1000 samples\n",
            "Epoch 1/20\n",
            "7982/7982 [==============================] - 1s 155us/step - loss: 2.5264 - accuracy: 0.5380 - val_loss: 1.6831 - val_accuracy: 0.6520\n",
            "Epoch 2/20\n",
            "7982/7982 [==============================] - 1s 129us/step - loss: 1.3794 - accuracy: 0.7146 - val_loss: 1.3047 - val_accuracy: 0.7240\n",
            "Epoch 3/20\n",
            "7982/7982 [==============================] - 1s 129us/step - loss: 1.0296 - accuracy: 0.7845 - val_loss: 1.1398 - val_accuracy: 0.7730\n",
            "Epoch 4/20\n",
            "7982/7982 [==============================] - 1s 128us/step - loss: 0.8139 - accuracy: 0.8285 - val_loss: 1.0533 - val_accuracy: 0.7740\n",
            "Epoch 5/20\n",
            "7982/7982 [==============================] - 1s 126us/step - loss: 0.6460 - accuracy: 0.8656 - val_loss: 0.9874 - val_accuracy: 0.7810\n",
            "Epoch 6/20\n",
            "7982/7982 [==============================] - 1s 125us/step - loss: 0.5140 - accuracy: 0.8946 - val_loss: 0.9171 - val_accuracy: 0.8160\n",
            "Epoch 7/20\n",
            "7982/7982 [==============================] - 1s 127us/step - loss: 0.4174 - accuracy: 0.9127 - val_loss: 0.9097 - val_accuracy: 0.8170\n",
            "Epoch 8/20\n",
            "7982/7982 [==============================] - 1s 126us/step - loss: 0.3372 - accuracy: 0.9300 - val_loss: 0.8830 - val_accuracy: 0.8200\n",
            "Epoch 9/20\n",
            "7982/7982 [==============================] - 1s 125us/step - loss: 0.2808 - accuracy: 0.9410 - val_loss: 0.8955 - val_accuracy: 0.8090\n",
            "Epoch 10/20\n",
            "7982/7982 [==============================] - 1s 127us/step - loss: 0.2346 - accuracy: 0.9460 - val_loss: 0.9253 - val_accuracy: 0.8050\n",
            "Epoch 11/20\n",
            "7982/7982 [==============================] - 1s 129us/step - loss: 0.2051 - accuracy: 0.9474 - val_loss: 0.9081 - val_accuracy: 0.8170\n",
            "Epoch 12/20\n",
            "7982/7982 [==============================] - 1s 127us/step - loss: 0.1793 - accuracy: 0.9509 - val_loss: 0.9837 - val_accuracy: 0.8080\n",
            "Epoch 13/20\n",
            "7982/7982 [==============================] - 1s 128us/step - loss: 0.1650 - accuracy: 0.9544 - val_loss: 0.9495 - val_accuracy: 0.8130\n",
            "Epoch 14/20\n",
            "7982/7982 [==============================] - 1s 127us/step - loss: 0.1479 - accuracy: 0.9554 - val_loss: 0.9726 - val_accuracy: 0.8070\n",
            "Epoch 15/20\n",
            "7982/7982 [==============================] - 1s 125us/step - loss: 0.1412 - accuracy: 0.9540 - val_loss: 0.9635 - val_accuracy: 0.8110\n",
            "Epoch 16/20\n",
            "7982/7982 [==============================] - 1s 130us/step - loss: 0.1317 - accuracy: 0.9562 - val_loss: 0.9831 - val_accuracy: 0.8100\n",
            "Epoch 17/20\n",
            "7982/7982 [==============================] - 1s 131us/step - loss: 0.1246 - accuracy: 0.9555 - val_loss: 1.0246 - val_accuracy: 0.7960\n",
            "Epoch 18/20\n",
            "7982/7982 [==============================] - 1s 126us/step - loss: 0.1191 - accuracy: 0.9582 - val_loss: 1.1699 - val_accuracy: 0.7740\n",
            "Epoch 19/20\n",
            "7982/7982 [==============================] - 1s 128us/step - loss: 0.1170 - accuracy: 0.9579 - val_loss: 1.0513 - val_accuracy: 0.8020\n",
            "Epoch 20/20\n",
            "7982/7982 [==============================] - 1s 127us/step - loss: 0.1104 - accuracy: 0.9563 - val_loss: 1.0664 - val_accuracy: 0.7970\n"
          ],
          "name": "stdout"
        }
      ]
    },
    {
      "cell_type": "code",
      "metadata": {
        "id": "mZzTAVV3N69s",
        "colab_type": "code",
        "colab": {
          "base_uri": "https://localhost:8080/",
          "height": 295
        },
        "outputId": "9a778c70-2ab5-4cb6-fa03-51b6994b41d1"
      },
      "source": [
        "import matplotlib.pyplot as plt\n",
        "\n",
        "loss = history.history['loss']\n",
        "val_loss = history.history['val_loss']\n",
        "\n",
        "epochs = range(1, len(loss) + 1)\n",
        "\n",
        "plt.plot(epochs, loss, 'bo', label='Training loss')\n",
        "plt.plot(epochs, val_loss, 'b', label='Validation loss')\n",
        "plt.title('Training and validation loss')\n",
        "plt.xlabel(\"Epochs\")\n",
        "plt.ylabel('Loss')\n",
        "plt.legend()\n",
        "\n",
        "plt.show()"
      ],
      "execution_count": 219,
      "outputs": [
        {
          "output_type": "display_data",
          "data": {
            "image/png": "[encoded data removed]",
            "text/plain": [
              "<Figure size 432x288 with 1 Axes>"
            ]
          },
          "metadata": {
            "tags": [],
            "needs_background": "light"
          }
        }
      ]
    },
    {
      "cell_type": "code",
      "metadata": {
        "id": "l0I3ODWrPORl",
        "colab_type": "code",
        "colab": {
          "base_uri": "https://localhost:8080/",
          "height": 295
        },
        "outputId": "f554c810-fc61-4f81-d769-3c8fe4d08a04"
      },
      "source": [
        "plt.clf()\n",
        "\n",
        "acc = history.history['accuracy']\n",
        "val_acc = history.history['val_accuracy']\n",
        "\n",
        "plt.plot(epochs, acc, 'bo', label='Training acc')\n",
        "plt.plot(epochs, val_acc, 'b', label='Validation acc')\n",
        "plt.title('Training and validation accuracy')\n",
        "plt.xlabel('Epochs')\n",
        "plt.ylabel('Accuracy')\n",
        "plt.legend()\n",
        "\n",
        "plt.show()"
      ],
      "execution_count": 220,
      "outputs": [
        {
          "output_type": "display_data",
          "data": {
            "image/png": "[encoded data removed]",
            "text/plain": [
              "<Figure size 432x288 with 1 Axes>"
            ]
          },
          "metadata": {
            "tags": [],
            "needs_background": "light"
          }
        }
      ]
    },
    {
      "cell_type": "markdown",
      "metadata": {
        "id": "J4b9GKY4Q5it",
        "colab_type": "text"
      },
      "source": [
        "After nine epochs our network begins to over fit."
      ]
    },
    {
      "cell_type": "code",
      "metadata": {
        "id": "Bbf0ZQajRDG2",
        "colab_type": "code",
        "colab": {
          "base_uri": "https://localhost:8080/",
          "height": 700
        },
        "outputId": "9f925555-6064-4bc7-ac46-74a7bca80348"
      },
      "source": [
        "model = models.Sequential()\n",
        "model.add(layers.Dense(64, activation='relu', input_shape=(10000,)))\n",
        "model.add(layers.Dense(64, activation='relu'))\n",
        "model.add(layers.Dense(46, activation='softmax'))\n",
        "model.compile(optimizer='rmsprop',\n",
        "loss='categorical_crossentropy',\n",
        "metrics=['accuracy'])\n",
        "model.fit(partial_x_train,\n",
        "partial_y_train,\n",
        "epochs=9,\n",
        "batch_size=512,\n",
        "validation_data=(x_val, y_val))\n",
        "results = model.evaluate(x_test, one_hot_test_labels)"
      ],
      "execution_count": 221,
      "outputs": [
        {
          "output_type": "stream",
          "text": [
            "Train on 7982 samples, validate on 1000 samples\n",
            "Epoch 1/9\n",
            "7982/7982 [==============================] - 1s 137us/step - loss: 2.6165 - accuracy: 0.5362 - val_loss: 1.7280 - val_accuracy: 0.6500\n",
            "Epoch 2/9\n",
            "7982/7982 [==============================] - 1s 129us/step - loss: 1.4166 - accuracy: 0.7092 - val_loss: 1.3006 - val_accuracy: 0.7110\n",
            "Epoch 3/9\n",
            "7982/7982 [==============================] - 1s 130us/step - loss: 1.0558 - accuracy: 0.7814 - val_loss: 1.1472 - val_accuracy: 0.7480\n",
            "Epoch 4/9\n",
            "7982/7982 [==============================] - 1s 127us/step - loss: 0.8353 - accuracy: 0.8275 - val_loss: 1.0493 - val_accuracy: 0.7770\n",
            "Epoch 5/9\n",
            "7982/7982 [==============================] - 1s 128us/step - loss: 0.6790 - accuracy: 0.8598 - val_loss: 0.9973 - val_accuracy: 0.7870\n",
            "Epoch 6/9\n",
            "7982/7982 [==============================] - 1s 124us/step - loss: 0.5476 - accuracy: 0.8864 - val_loss: 0.9342 - val_accuracy: 0.8070\n",
            "Epoch 7/9\n",
            "7982/7982 [==============================] - 1s 129us/step - loss: 0.4375 - accuracy: 0.9100 - val_loss: 0.9381 - val_accuracy: 0.7980\n",
            "Epoch 8/9\n",
            "7982/7982 [==============================] - 1s 127us/step - loss: 0.3602 - accuracy: 0.9257 - val_loss: 0.9267 - val_accuracy: 0.8020\n",
            "Epoch 9/9\n",
            "7982/7982 [==============================] - 1s 124us/step - loss: 0.2966 - accuracy: 0.9369 - val_loss: 0.9220 - val_accuracy: 0.8090\n"
          ],
          "name": "stdout"
        },
        {
          "output_type": "error",
          "ename": "ValueError",
          "evalue": "ignored",
          "traceback": [
            "\u001b[0;31m---------------------------------------------------------------------------\u001b[0m",
            "\u001b[0;31mValueError\u001b[0m                                Traceback (most recent call last)",
            "\u001b[0;32m<ipython-input-221-89b74c9c47dc>\u001b[0m in \u001b[0;36m<module>\u001b[0;34m()\u001b[0m\n\u001b[1;32m     11\u001b[0m \u001b[0mbatch_size\u001b[0m\u001b[0;34m=\u001b[0m\u001b[0;36m512\u001b[0m\u001b[0;34m,\u001b[0m\u001b[0;34m\u001b[0m\u001b[0;34m\u001b[0m\u001b[0m\n\u001b[1;32m     12\u001b[0m validation_data=(x_val, y_val))\n\u001b[0;32m---> 13\u001b[0;31m \u001b[0mresults\u001b[0m \u001b[0;34m=\u001b[0m \u001b[0mmodel\u001b[0m\u001b[0;34m.\u001b[0m\u001b[0mevaluate\u001b[0m\u001b[0;34m(\u001b[0m\u001b[0mx_test\u001b[0m\u001b[0;34m,\u001b[0m \u001b[0mone_hot_test_labels\u001b[0m\u001b[0;34m)\u001b[0m\u001b[0;34m\u001b[0m\u001b[0;34m\u001b[0m\u001b[0m\n\u001b[0m",
            "\u001b[0;32m/usr/local/lib/python3.6/dist-packages/keras/engine/training.py\u001b[0m in \u001b[0;36mevaluate\u001b[0;34m(self, x, y, batch_size, verbose, sample_weight, steps, callbacks, max_queue_size, workers, use_multiprocessing)\u001b[0m\n\u001b[1;32m   1347\u001b[0m             \u001b[0mx\u001b[0m\u001b[0;34m,\u001b[0m \u001b[0my\u001b[0m\u001b[0;34m,\u001b[0m\u001b[0;34m\u001b[0m\u001b[0;34m\u001b[0m\u001b[0m\n\u001b[1;32m   1348\u001b[0m             \u001b[0msample_weight\u001b[0m\u001b[0;34m=\u001b[0m\u001b[0msample_weight\u001b[0m\u001b[0;34m,\u001b[0m\u001b[0;34m\u001b[0m\u001b[0;34m\u001b[0m\u001b[0m\n\u001b[0;32m-> 1349\u001b[0;31m             batch_size=batch_size)\n\u001b[0m\u001b[1;32m   1350\u001b[0m         \u001b[0;31m# Prepare inputs, delegate logic to `test_loop`.\u001b[0m\u001b[0;34m\u001b[0m\u001b[0;34m\u001b[0m\u001b[0;34m\u001b[0m\u001b[0m\n\u001b[1;32m   1351\u001b[0m         \u001b[0;32mif\u001b[0m \u001b[0mself\u001b[0m\u001b[0;34m.\u001b[0m\u001b[0m_uses_dynamic_learning_phase\u001b[0m\u001b[0;34m(\u001b[0m\u001b[0;34m)\u001b[0m\u001b[0;34m:\u001b[0m\u001b[0;34m\u001b[0m\u001b[0;34m\u001b[0m\u001b[0m\n",
            "\u001b[0;32m/usr/local/lib/python3.6/dist-packages/keras/engine/training.py\u001b[0m in \u001b[0;36m_standardize_user_data\u001b[0;34m(self, x, y, sample_weight, class_weight, check_array_lengths, batch_size)\u001b[0m\n\u001b[1;32m    635\u001b[0m             \u001b[0;31m# Check that all arrays have the same length.\u001b[0m\u001b[0;34m\u001b[0m\u001b[0;34m\u001b[0m\u001b[0;34m\u001b[0m\u001b[0m\n\u001b[1;32m    636\u001b[0m             \u001b[0;32mif\u001b[0m \u001b[0mcheck_array_lengths\u001b[0m\u001b[0;34m:\u001b[0m\u001b[0;34m\u001b[0m\u001b[0;34m\u001b[0m\u001b[0m\n\u001b[0;32m--> 637\u001b[0;31m                 \u001b[0mtraining_utils\u001b[0m\u001b[0;34m.\u001b[0m\u001b[0mcheck_array_length_consistency\u001b[0m\u001b[0;34m(\u001b[0m\u001b[0mx\u001b[0m\u001b[0;34m,\u001b[0m \u001b[0my\u001b[0m\u001b[0;34m,\u001b[0m \u001b[0msample_weights\u001b[0m\u001b[0;34m)\u001b[0m\u001b[0;34m\u001b[0m\u001b[0;34m\u001b[0m\u001b[0m\n\u001b[0m\u001b[1;32m    638\u001b[0m             \u001b[0;32mif\u001b[0m \u001b[0mself\u001b[0m\u001b[0;34m.\u001b[0m\u001b[0m_is_graph_network\u001b[0m\u001b[0;34m:\u001b[0m\u001b[0;34m\u001b[0m\u001b[0;34m\u001b[0m\u001b[0m\n\u001b[1;32m    639\u001b[0m                 \u001b[0;31m# Additional checks to avoid users mistakenly\u001b[0m\u001b[0;34m\u001b[0m\u001b[0;34m\u001b[0m\u001b[0;34m\u001b[0m\u001b[0m\n",
            "\u001b[0;32m/usr/local/lib/python3.6/dist-packages/keras/engine/training_utils.py\u001b[0m in \u001b[0;36mcheck_array_length_consistency\u001b[0;34m(inputs, targets, weights)\u001b[0m\n\u001b[1;32m    242\u001b[0m                          \u001b[0;34m'the same number of samples as target arrays. '\u001b[0m\u001b[0;34m\u001b[0m\u001b[0;34m\u001b[0m\u001b[0m\n\u001b[1;32m    243\u001b[0m                          \u001b[0;34m'Found '\u001b[0m \u001b[0;34m+\u001b[0m \u001b[0mstr\u001b[0m\u001b[0;34m(\u001b[0m\u001b[0mlist\u001b[0m\u001b[0;34m(\u001b[0m\u001b[0mset_x\u001b[0m\u001b[0;34m)\u001b[0m\u001b[0;34m[\u001b[0m\u001b[0;36m0\u001b[0m\u001b[0;34m]\u001b[0m\u001b[0;34m)\u001b[0m \u001b[0;34m+\u001b[0m \u001b[0;34m' input samples '\u001b[0m\u001b[0;34m\u001b[0m\u001b[0;34m\u001b[0m\u001b[0m\n\u001b[0;32m--> 244\u001b[0;31m                          'and ' + str(list(set_y)[0]) + ' target samples.')\n\u001b[0m\u001b[1;32m    245\u001b[0m     \u001b[0;32mif\u001b[0m \u001b[0mlen\u001b[0m\u001b[0;34m(\u001b[0m\u001b[0mset_w\u001b[0m\u001b[0;34m)\u001b[0m \u001b[0;34m>\u001b[0m \u001b[0;36m1\u001b[0m\u001b[0;34m:\u001b[0m\u001b[0;34m\u001b[0m\u001b[0;34m\u001b[0m\u001b[0m\n\u001b[1;32m    246\u001b[0m         raise ValueError('All sample_weight arrays should have '\n",
            "\u001b[0;31mValueError\u001b[0m: Input arrays should have the same number of samples as target arrays. Found 2246 input samples and 8982 target samples."
          ]
        }
      ]
    },
    {
      "cell_type": "code",
      "metadata": {
        "id": "Qo35CXrnU2R4",
        "colab_type": "code",
        "colab": {}
      },
      "source": [
        "x_test.shape"
      ],
      "execution_count": null,
      "outputs": []
    },
    {
      "cell_type": "code",
      "metadata": {
        "id": "1cQFUJk3VATG",
        "colab_type": "code",
        "colab": {}
      },
      "source": [
        "one_hot_test_labels.shape"
      ],
      "execution_count": null,
      "outputs": []
    },
    {
      "cell_type": "code",
      "metadata": {
        "id": "y8o6XJToXlu4",
        "colab_type": "code",
        "colab": {}
      },
      "source": [
        "len(x_test)"
      ],
      "execution_count": null,
      "outputs": []
    },
    {
      "cell_type": "code",
      "metadata": {
        "id": "HgrHimeygkwi",
        "colab_type": "code",
        "colab": {}
      },
      "source": [
        "len(train_labels)"
      ],
      "execution_count": null,
      "outputs": []
    },
    {
      "cell_type": "code",
      "metadata": {
        "id": "aXVDT1Bn1T6B",
        "colab_type": "code",
        "colab": {}
      },
      "source": [
        "import numpy as np\n",
        "new_test = np.reshape(x_test, (1, len(x_test)))"
      ],
      "execution_count": null,
      "outputs": []
    },
    {
      "cell_type": "markdown",
      "metadata": {
        "id": "uOk1sO4atAxM",
        "colab_type": "text"
      },
      "source": [
        "* to do \n",
        "* fill in remaining sections\n",
        "\n"
      ]
    },
    {
      "cell_type": "markdown",
      "metadata": {
        "id": "bkC_ELa3Lf3r",
        "colab_type": "text"
      },
      "source": [
        "#3.6 Predicting house prices: a regression example"
      ]
    },
    {
      "cell_type": "markdown",
      "metadata": {
        "id": "NWHMovO_LuId",
        "colab_type": "text"
      },
      "source": [
        "Another common type of machine-learning problem is *regression* , which consistts of predicting a continuous value instead of a discrete label: for instance predicting the time that a software project will take to compe, given its specifications."
      ]
    },
    {
      "cell_type": "markdown",
      "metadata": {
        "id": "usYDgurEMUgy",
        "colab_type": "text"
      },
      "source": [
        "#3.6.1 The Boston Housing Price dataset"
      ]
    },
    {
      "cell_type": "markdown",
      "metadata": {
        "id": "JLwLzZMKMd6f",
        "colab_type": "text"
      },
      "source": [
        "In this example I will attempt to predict the median price of homes in a give Boston suburb in the mid-1970s, given data points about several variables."
      ]
    },
    {
      "cell_type": "code",
      "metadata": {
        "id": "aJKgRf2VNBe9",
        "colab_type": "code",
        "colab": {}
      },
      "source": [
        "from keras.datasets import boston_housing\n",
        "\n",
        "(train_data, train_targets), (test_data, test_targets) = boston_housing.load_data()"
      ],
      "execution_count": 222,
      "outputs": []
    },
    {
      "cell_type": "markdown",
      "metadata": {
        "id": "nPNRFbHKNecK",
        "colab_type": "text"
      },
      "source": [
        "Peak at the data."
      ]
    },
    {
      "cell_type": "code",
      "metadata": {
        "id": "YtuxE2tENhy1",
        "colab_type": "code",
        "colab": {}
      },
      "source": [
        "train_data.shape"
      ],
      "execution_count": null,
      "outputs": []
    },
    {
      "cell_type": "code",
      "metadata": {
        "id": "lUV4ukYoNmgj",
        "colab_type": "code",
        "colab": {}
      },
      "source": [
        "test_data.shape"
      ],
      "execution_count": null,
      "outputs": []
    },
    {
      "cell_type": "markdown",
      "metadata": {
        "id": "3Fy6AgBINtfV",
        "colab_type": "text"
      },
      "source": [
        "We have 404 training samples and 102 test samples, each with 13 numerical features, such as per capita crime rate, average number of rooms per dwelling, accessibilty to highways and so on."
      ]
    },
    {
      "cell_type": "markdown",
      "metadata": {
        "id": "xXEEzpOCOKVz",
        "colab_type": "text"
      },
      "source": [
        "The targets are median values of owner-occupied homes, thousands of dollar:"
      ]
    },
    {
      "cell_type": "code",
      "metadata": {
        "id": "4MzNqUR3OYFW",
        "colab_type": "code",
        "colab": {}
      },
      "source": [
        "train_targets"
      ],
      "execution_count": null,
      "outputs": []
    },
    {
      "cell_type": "markdown",
      "metadata": {
        "id": "okOJW7fsP4KN",
        "colab_type": "text"
      },
      "source": [
        "#3.6.2 Preparing the data \n"
      ]
    },
    {
      "cell_type": "code",
      "metadata": {
        "id": "EODvTkaxaSzd",
        "colab_type": "code",
        "colab": {}
      },
      "source": [
        "import numpy as np\n",
        "\n",
        "mean = train_data.mean(axis=0)\n",
        "train_data -= mean\n",
        "std = train_data.std(axis=0)\n",
        "train_data /= std\n",
        "\n",
        "test_data -= mean\n",
        "test_data /= std"
      ],
      "execution_count": 223,
      "outputs": []
    },
    {
      "cell_type": "markdown",
      "metadata": {
        "id": "ioJdGvbtcb7E",
        "colab_type": "text"
      },
      "source": [
        "#3.6.3 Building your network"
      ]
    },
    {
      "cell_type": "code",
      "metadata": {
        "id": "QNSvpEfTcjEp",
        "colab_type": "code",
        "colab": {}
      },
      "source": [
        "from keras import models\n",
        "from keras import layers\n",
        "\n",
        "def build_model():\n",
        "    model = models.Sequential()\n",
        "    model.add(layers.Dense(64, activation='relu',\n",
        "                           input_shape=(train_data.shape[1],)))\n",
        "    model.add(layers.Dense(64, activation='relu'))\n",
        "    model.add(layers.Dense(1))\n",
        "    model.compile(optimizer='rmsprop', loss='mse', metrics=['mae'])\n",
        "    return model\n"
      ],
      "execution_count": 227,
      "outputs": []
    },
    {
      "cell_type": "markdown",
      "metadata": {
        "id": "SNoZZ6BrehnH",
        "colab_type": "text"
      },
      "source": [
        "#3.6.4 Validating your approach using K-fold validation"
      ]
    },
    {
      "cell_type": "code",
      "metadata": {
        "id": "HRBbALPFpb43",
        "colab_type": "code",
        "colab": {
          "base_uri": "https://localhost:8080/",
          "height": 89
        },
        "outputId": "d849a864-ca49-4f45-ec8f-702a18ab83c5"
      },
      "source": [
        "import numpy as np\n",
        "\n",
        "k = 4\n",
        "num_val_samples = len(train_data) // k\n",
        "num_epochs = 100\n",
        "all_scores = []\n",
        "for i in range(k):\n",
        "    print('processing fold #', i)\n",
        "    val_data = train_data[i * num_val_samples: (i + 1) * num_val_samples]\n",
        "    val_targets = train_targets[i * num_val_samples: (i + 1) * num_val_samples]\n",
        "\n",
        "    partial_train_data = np.concatenate(\n",
        "        [train_data[:i * num_val_samples],\n",
        "         train_data[(i + 1) * num_val_samples:]],\n",
        "        axis=0)\n",
        "    partial_train_targets = np.concatenate(\n",
        "        [train_targets[:i * num_val_samples],\n",
        "         train_targets[(i + 1) * num_val_samples:]],\n",
        "        axis=0)\n",
        "\n",
        "    model = build_model()\n",
        "    model.fit(partial_train_data, partial_train_targets,\n",
        "              epochs=num_epochs, batch_size=1, verbose=0)\n",
        "    val_mse, val_mae = model.evaluate(val_data, val_targets, verbose=0)\n",
        "    all_scores.append(val_mae)\n"
      ],
      "execution_count": 228,
      "outputs": [
        {
          "output_type": "stream",
          "text": [
            "processing fold # 0\n",
            "processing fold # 1\n",
            "processing fold # 2\n",
            "processing fold # 3\n"
          ],
          "name": "stdout"
        }
      ]
    },
    {
      "cell_type": "code",
      "metadata": {
        "id": "Q-wrsqfPerjK",
        "colab_type": "code",
        "colab": {
          "base_uri": "https://localhost:8080/",
          "height": 35
        },
        "outputId": "2f326ca6-cb60-4019-ca56-a42ded109d51"
      },
      "source": [
        "all_scores\n",
        "np.mean(all_scores)"
      ],
      "execution_count": 230,
      "outputs": [
        {
          "output_type": "execute_result",
          "data": {
            "text/plain": [
              "2.3420081436634064"
            ]
          },
          "metadata": {
            "tags": []
          },
          "execution_count": 230
        }
      ]
    },
    {
      "cell_type": "code",
      "metadata": {
        "id": "DilLc9o0sY_z",
        "colab_type": "code",
        "colab": {
          "base_uri": "https://localhost:8080/",
          "height": 35
        },
        "outputId": "11c30487-f92c-495d-b984-c3953605991b"
      },
      "source": [
        "import numpy as np\n",
        "\n",
        "k = 4\n",
        "num_val_samples = len(train_data) // k\n",
        "num_epochs = 500\n",
        "all_mae_histories = []\n",
        "for i in range(k):\n",
        "    print('processing fold #', i)\n",
        "    val_data = train_data[i * num_val_samples: (i + 1) * num_val_samples]\n",
        "    val_targets = train_targets[i * num_val_samples: (i + 1) * num_val_samples]\n",
        "\n",
        "    partial_train_data = np.concatenate(\n",
        "        [train_data[:i * num_val_samples],\n",
        "         train_data[(i + 1) * num_val_samples:]],\n",
        "        axis=0)\n",
        "    partial_train_targets = np.concatenate(\n",
        "        [train_targets[:i * num_val_samples],\n",
        "         train_targets[(i + 1) * num_val_samples:]],\n",
        "        axis=0)\n",
        "\n",
        "    model = build_model()\n",
        "    history = model.fit(partial_train_data, partial_train_targets,\n",
        "              epochs=num_epochs, batch_size=1, verbose=0)\n",
        "    mae_history = history.history['val_mean_absolute_error']\n",
        "    all_mae_histories.append(mae_history)\n"
      ],
      "execution_count": null,
      "outputs": [
        {
          "output_type": "stream",
          "text": [
            "processing fold # 0\n"
          ],
          "name": "stdout"
        }
      ]
    }
  ]
}