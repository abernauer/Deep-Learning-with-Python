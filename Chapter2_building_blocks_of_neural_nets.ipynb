{
  "nbformat": 4,
  "nbformat_minor": 0,
  "metadata": {
    "colab": {
      "name": "Chapter2:building blocks of neural nets.ipynb",
      "provenance": [],
      "collapsed_sections": [],
      "authorship_tag": "ABX9TyO7A7QMHG33uAgZGDRorfLV",
      "include_colab_link": true
    },
    "kernelspec": {
      "name": "python3",
      "display_name": "Python 3"
    }
  },
  "cells": [
    {
      "cell_type": "markdown",
      "metadata": {
        "id": "view-in-github",
        "colab_type": "text"
      },
      "source": [
        "<a href=\"https://colab.research.google.com/github/abernauer/Deep-Learning-with-Python/blob/master/Chapter2_building_blocks_of_neural_nets.ipynb\" target=\"_parent\"><img src=\"https://colab.research.google.com/assets/colab-badge.svg\" alt=\"Open In Colab\"/></a>"
      ]
    },
    {
      "cell_type": "markdown",
      "metadata": {
        "id": "15Xao3sy4U-p",
        "colab_type": "text"
      },
      "source": [
        "# 2.1 A first look at a neural network"
      ]
    },
    {
      "cell_type": "code",
      "metadata": {
        "id": "8i9a3o0O1-uu",
        "colab_type": "code",
        "colab": {
          "base_uri": "https://localhost:8080/",
          "height": 53
        },
        "outputId": "e20b15b6-1273-4fae-93df-daf769575fc0"
      },
      "source": [
        "from keras.datasets import mnist\n",
        "(train_images, train_lables), (test_images, test_labels) = mnist.load_data()"
      ],
      "execution_count": 2,
      "outputs": [
        {
          "output_type": "stream",
          "text": [
            "Downloading data from https://s3.amazonaws.com/img-datasets/mnist.npz\n",
            "11493376/11490434 [==============================] - 0s 0us/step\n"
          ],
          "name": "stdout"
        }
      ]
    },
    {
      "cell_type": "markdown",
      "metadata": {
        "id": "FOKcK99J57DV",
        "colab_type": "text"
      },
      "source": [
        " *Training data*"
      ]
    },
    {
      "cell_type": "code",
      "metadata": {
        "id": "g1NsdYLz5qQm",
        "colab_type": "code",
        "colab": {
          "base_uri": "https://localhost:8080/",
          "height": 35
        },
        "outputId": "ccbf94dd-41c9-4724-f52c-b714271308c7"
      },
      "source": [
        "train_images.shape\n"
      ],
      "execution_count": 5,
      "outputs": [
        {
          "output_type": "execute_result",
          "data": {
            "text/plain": [
              "(60000, 28, 28)"
            ]
          },
          "metadata": {
            "tags": []
          },
          "execution_count": 5
        }
      ]
    },
    {
      "cell_type": "code",
      "metadata": {
        "id": "gvAOAcQi6V1B",
        "colab_type": "code",
        "colab": {
          "base_uri": "https://localhost:8080/",
          "height": 35
        },
        "outputId": "e2a0235e-a41a-4222-ced1-65f3ec4b291a"
      },
      "source": [
        "len(train_lables)"
      ],
      "execution_count": 6,
      "outputs": [
        {
          "output_type": "execute_result",
          "data": {
            "text/plain": [
              "60000"
            ]
          },
          "metadata": {
            "tags": []
          },
          "execution_count": 6
        }
      ]
    },
    {
      "cell_type": "code",
      "metadata": {
        "id": "Onr6794F6c1R",
        "colab_type": "code",
        "colab": {
          "base_uri": "https://localhost:8080/",
          "height": 35
        },
        "outputId": "9f9943da-2774-43c7-b044-bac6175753e3"
      },
      "source": [
        "train_lables"
      ],
      "execution_count": 7,
      "outputs": [
        {
          "output_type": "execute_result",
          "data": {
            "text/plain": [
              "array([5, 0, 4, ..., 5, 6, 8], dtype=uint8)"
            ]
          },
          "metadata": {
            "tags": []
          },
          "execution_count": 7
        }
      ]
    },
    {
      "cell_type": "markdown",
      "metadata": {
        "id": "x-vkXSA06-z-",
        "colab_type": "text"
      },
      "source": [
        "*Testing data*"
      ]
    },
    {
      "cell_type": "code",
      "metadata": {
        "id": "7Wbh510k7G9V",
        "colab_type": "code",
        "colab": {
          "base_uri": "https://localhost:8080/",
          "height": 35
        },
        "outputId": "be204472-0e45-4fbf-9af1-eb19df845e23"
      },
      "source": [
        "test_images.shape"
      ],
      "execution_count": 8,
      "outputs": [
        {
          "output_type": "execute_result",
          "data": {
            "text/plain": [
              "(10000, 28, 28)"
            ]
          },
          "metadata": {
            "tags": []
          },
          "execution_count": 8
        }
      ]
    },
    {
      "cell_type": "code",
      "metadata": {
        "id": "WV-uwW607OhD",
        "colab_type": "code",
        "colab": {
          "base_uri": "https://localhost:8080/",
          "height": 35
        },
        "outputId": "e7166ba4-39d5-4d5e-c823-c586c85570d1"
      },
      "source": [
        "len(test_labels)"
      ],
      "execution_count": 9,
      "outputs": [
        {
          "output_type": "execute_result",
          "data": {
            "text/plain": [
              "10000"
            ]
          },
          "metadata": {
            "tags": []
          },
          "execution_count": 9
        }
      ]
    },
    {
      "cell_type": "code",
      "metadata": {
        "id": "iEyz51hO7S8P",
        "colab_type": "code",
        "colab": {
          "base_uri": "https://localhost:8080/",
          "height": 35
        },
        "outputId": "ff9f342d-e746-4786-db52-1704c40aaf6b"
      },
      "source": [
        "test_labels"
      ],
      "execution_count": 10,
      "outputs": [
        {
          "output_type": "execute_result",
          "data": {
            "text/plain": [
              "array([7, 2, 1, ..., 4, 5, 6], dtype=uint8)"
            ]
          },
          "metadata": {
            "tags": []
          },
          "execution_count": 10
        }
      ]
    },
    {
      "cell_type": "markdown",
      "metadata": {
        "id": "No924VNq8BfA",
        "colab_type": "text"
      },
      "source": [
        "*Network Architechture*"
      ]
    },
    {
      "cell_type": "code",
      "metadata": {
        "id": "1mrt8zpW8NfR",
        "colab_type": "code",
        "colab": {}
      },
      "source": [
        "from keras import models\n",
        "from keras import layers\n"
      ],
      "execution_count": 12,
      "outputs": []
    },
    {
      "cell_type": "code",
      "metadata": {
        "id": "iMz6uV6L8lam",
        "colab_type": "code",
        "colab": {}
      },
      "source": [
        "net = models.Sequential()\n",
        "net.add(layers.Dense(512, activation='relu', input_shape=(28 * 28,)))\n",
        "net.add(layers.Dense(10, activation='softmax'))"
      ],
      "execution_count": 14,
      "outputs": []
    },
    {
      "cell_type": "markdown",
      "metadata": {
        "id": "VtVzp-YkGD97",
        "colab_type": "text"
      },
      "source": [
        "*compilation step*\n",
        "\n",
        "* A loss function how we measure our performance on the training data\n",
        "* An optimizer the mechanism in which, the network will update based on the data and loss function\n",
        "* Metrics to monitor during testing and training in this case accuracy\n"
      ]
    },
    {
      "cell_type": "markdown",
      "metadata": {
        "id": "6J0Uyra69waq",
        "colab_type": "text"
      },
      "source": [
        "*Compilation Step*"
      ]
    },
    {
      "cell_type": "code",
      "metadata": {
        "id": "Je2i0hZI9qqH",
        "colab_type": "code",
        "colab": {}
      },
      "source": [
        "net.compile(optimizer='rmsprop',\n",
        "            loss='categorical_crossentropy',\n",
        "            metrics=['accuracy'])"
      ],
      "execution_count": 16,
      "outputs": []
    },
    {
      "cell_type": "markdown",
      "metadata": {
        "id": "Jvuq-qQk-Z52",
        "colab_type": "text"
      },
      "source": [
        "*Preparing the data*"
      ]
    },
    {
      "cell_type": "code",
      "metadata": {
        "id": "9nws3lMO-dt4",
        "colab_type": "code",
        "colab": {}
      },
      "source": [
        "train_images = train_images.reshape((60000, 28 * 28))\n",
        "train_images = train_images.astype('float32') / 255\n",
        "\n",
        "test_images = test_images.reshape((10000, 28 * 28))\n",
        "test_images = test_images.astype('float32') / 255"
      ],
      "execution_count": 18,
      "outputs": []
    },
    {
      "cell_type": "markdown",
      "metadata": {
        "id": "MeIUktuMAc74",
        "colab_type": "text"
      },
      "source": [
        "*Preparing the labels*"
      ]
    },
    {
      "cell_type": "code",
      "metadata": {
        "id": "ewzqmG1GAk-x",
        "colab_type": "code",
        "colab": {}
      },
      "source": [
        "from keras.utils import to_categorical\n",
        "\n",
        "train_lables = to_categorical(train_lables)\n",
        "test_labels = to_categorical(test_labels)"
      ],
      "execution_count": 19,
      "outputs": []
    },
    {
      "cell_type": "code",
      "metadata": {
        "id": "UzFFbkPqBIPF",
        "colab_type": "code",
        "colab": {
          "base_uri": "https://localhost:8080/",
          "height": 215
        },
        "outputId": "15bf4cf1-15b5-49e5-db92-720abcd4358f"
      },
      "source": [
        "net.fit(train_images, train_lables, epochs=5, batch_size=128)"
      ],
      "execution_count": 20,
      "outputs": [
        {
          "output_type": "stream",
          "text": [
            "Epoch 1/5\n",
            "60000/60000 [==============================] - 5s 83us/step - loss: 1.4864 - accuracy: 0.6596\n",
            "Epoch 2/5\n",
            "60000/60000 [==============================] - 5s 81us/step - loss: 0.5936 - accuracy: 0.8520\n",
            "Epoch 3/5\n",
            "60000/60000 [==============================] - 5s 88us/step - loss: 0.4131 - accuracy: 0.8878\n",
            "Epoch 4/5\n",
            "60000/60000 [==============================] - 5s 78us/step - loss: 0.3542 - accuracy: 0.9008\n",
            "Epoch 5/5\n",
            "60000/60000 [==============================] - 5s 77us/step - loss: 0.3246 - accuracy: 0.9073\n"
          ],
          "name": "stdout"
        },
        {
          "output_type": "execute_result",
          "data": {
            "text/plain": [
              "<keras.callbacks.callbacks.History at 0x7f08b6e8c2e8>"
            ]
          },
          "metadata": {
            "tags": []
          },
          "execution_count": 20
        }
      ]
    },
    {
      "cell_type": "markdown",
      "metadata": {
        "id": "rpcy-ArIFEyo",
        "colab_type": "text"
      },
      "source": [
        "The quantities displayed above are the loss and accuracy of the training. \n"
      ]
    },
    {
      "cell_type": "code",
      "metadata": {
        "id": "okKpzjNVFXaC",
        "colab_type": "code",
        "colab": {
          "base_uri": "https://localhost:8080/",
          "height": 35
        },
        "outputId": "65db5a54-ac56-49dd-a1ae-fd3baf71ee56"
      },
      "source": [
        "test_loss, test_acc = net.evaluate(test_images, test_labels)"
      ],
      "execution_count": 21,
      "outputs": [
        {
          "output_type": "stream",
          "text": [
            "10000/10000 [==============================] - 1s 57us/step\n"
          ],
          "name": "stdout"
        }
      ]
    },
    {
      "cell_type": "code",
      "metadata": {
        "id": "oMOMjBuSFqSF",
        "colab_type": "code",
        "colab": {
          "base_uri": "https://localhost:8080/",
          "height": 35
        },
        "outputId": "ba536579-0ae2-47cc-b739-53e92ba529c3"
      },
      "source": [
        "print(\"test_acc:\", test_acc)"
      ],
      "execution_count": 22,
      "outputs": [
        {
          "output_type": "stream",
          "text": [
            "test_acc: 0.9136999845504761\n"
          ],
          "name": "stdout"
        }
      ]
    }
  ]
}