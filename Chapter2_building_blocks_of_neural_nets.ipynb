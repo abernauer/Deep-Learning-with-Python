{
  "nbformat": 4,
  "nbformat_minor": 0,
  "metadata": {
    "colab": {
      "name": "Chapter2:building blocks of neural nets.ipynb",
      "provenance": [],
      "collapsed_sections": [],
      "toc_visible": true,
      "authorship_tag": "ABX9TyNuA0cXiC6z2VEO4RNcQK+5",
      "include_colab_link": true
    },
    "kernelspec": {
      "name": "python3",
      "display_name": "Python 3"
    }
  },
  "cells": [
    {
      "cell_type": "markdown",
      "metadata": {
        "id": "view-in-github",
        "colab_type": "text"
      },
      "source": [
        "<a href=\"https://colab.research.google.com/github/abernauer/Deep-Learning-with-Python/blob/master/Chapter2_building_blocks_of_neural_nets.ipynb\" target=\"_parent\"><img src=\"https://colab.research.google.com/assets/colab-badge.svg\" alt=\"Open In Colab\"/></a>"
      ]
    },
    {
      "cell_type": "markdown",
      "metadata": {
        "id": "15Xao3sy4U-p",
        "colab_type": "text"
      },
      "source": [
        "# 2.1 A first look at a neural network"
      ]
    },
    {
      "cell_type": "code",
      "metadata": {
        "id": "8i9a3o0O1-uu",
        "colab_type": "code",
        "colab": {
          "base_uri": "https://localhost:8080/",
          "height": 71
        },
        "outputId": "588b0e4d-8f57-424f-dcb7-8532476f878d"
      },
      "source": [
        "from keras.datasets import mnist\n",
        "(train_images, train_lables), (test_images, test_labels) = mnist.load_data()"
      ],
      "execution_count": 2,
      "outputs": [
        {
          "output_type": "stream",
          "text": [
            "Using TensorFlow backend.\n"
          ],
          "name": "stderr"
        },
        {
          "output_type": "stream",
          "text": [
            "Downloading data from https://s3.amazonaws.com/img-datasets/mnist.npz\n",
            "11493376/11490434 [==============================] - 0s 0us/step\n"
          ],
          "name": "stdout"
        }
      ]
    },
    {
      "cell_type": "markdown",
      "metadata": {
        "id": "FOKcK99J57DV",
        "colab_type": "text"
      },
      "source": [
        " *Training data*"
      ]
    },
    {
      "cell_type": "code",
      "metadata": {
        "id": "g1NsdYLz5qQm",
        "colab_type": "code",
        "colab": {
          "base_uri": "https://localhost:8080/",
          "height": 35
        },
        "outputId": "4109a8b9-0f50-441e-ec15-fa388aeaf6f0"
      },
      "source": [
        "train_images.shape\n"
      ],
      "execution_count": 3,
      "outputs": [
        {
          "output_type": "execute_result",
          "data": {
            "text/plain": [
              "(60000, 28, 28)"
            ]
          },
          "metadata": {
            "tags": []
          },
          "execution_count": 3
        }
      ]
    },
    {
      "cell_type": "code",
      "metadata": {
        "id": "gvAOAcQi6V1B",
        "colab_type": "code",
        "colab": {
          "base_uri": "https://localhost:8080/",
          "height": 35
        },
        "outputId": "a6f0f07a-3aa5-4153-a5e2-957b435bce54"
      },
      "source": [
        "len(train_lables)"
      ],
      "execution_count": 4,
      "outputs": [
        {
          "output_type": "execute_result",
          "data": {
            "text/plain": [
              "60000"
            ]
          },
          "metadata": {
            "tags": []
          },
          "execution_count": 4
        }
      ]
    },
    {
      "cell_type": "code",
      "metadata": {
        "id": "Onr6794F6c1R",
        "colab_type": "code",
        "colab": {
          "base_uri": "https://localhost:8080/",
          "height": 35
        },
        "outputId": "f68c6f06-4f25-4421-b47e-cde087419703"
      },
      "source": [
        "train_lables"
      ],
      "execution_count": 5,
      "outputs": [
        {
          "output_type": "execute_result",
          "data": {
            "text/plain": [
              "array([5, 0, 4, ..., 5, 6, 8], dtype=uint8)"
            ]
          },
          "metadata": {
            "tags": []
          },
          "execution_count": 5
        }
      ]
    },
    {
      "cell_type": "markdown",
      "metadata": {
        "id": "x-vkXSA06-z-",
        "colab_type": "text"
      },
      "source": [
        "*Testing data*"
      ]
    },
    {
      "cell_type": "code",
      "metadata": {
        "id": "7Wbh510k7G9V",
        "colab_type": "code",
        "colab": {
          "base_uri": "https://localhost:8080/",
          "height": 35
        },
        "outputId": "0eff6229-c2eb-4162-a68f-bcb000e71154"
      },
      "source": [
        "test_images.shape"
      ],
      "execution_count": 6,
      "outputs": [
        {
          "output_type": "execute_result",
          "data": {
            "text/plain": [
              "(10000, 28, 28)"
            ]
          },
          "metadata": {
            "tags": []
          },
          "execution_count": 6
        }
      ]
    },
    {
      "cell_type": "code",
      "metadata": {
        "id": "WV-uwW607OhD",
        "colab_type": "code",
        "colab": {
          "base_uri": "https://localhost:8080/",
          "height": 35
        },
        "outputId": "641d6e51-c0b0-47cf-ffe7-6abd49acc647"
      },
      "source": [
        "len(test_labels)"
      ],
      "execution_count": 7,
      "outputs": [
        {
          "output_type": "execute_result",
          "data": {
            "text/plain": [
              "10000"
            ]
          },
          "metadata": {
            "tags": []
          },
          "execution_count": 7
        }
      ]
    },
    {
      "cell_type": "code",
      "metadata": {
        "id": "iEyz51hO7S8P",
        "colab_type": "code",
        "colab": {
          "base_uri": "https://localhost:8080/",
          "height": 35
        },
        "outputId": "2ddd562d-b870-4023-9993-bbb4d8e4e1a3"
      },
      "source": [
        "test_labels"
      ],
      "execution_count": 8,
      "outputs": [
        {
          "output_type": "execute_result",
          "data": {
            "text/plain": [
              "array([7, 2, 1, ..., 4, 5, 6], dtype=uint8)"
            ]
          },
          "metadata": {
            "tags": []
          },
          "execution_count": 8
        }
      ]
    },
    {
      "cell_type": "markdown",
      "metadata": {
        "id": "No924VNq8BfA",
        "colab_type": "text"
      },
      "source": [
        "*Network Architechture*"
      ]
    },
    {
      "cell_type": "code",
      "metadata": {
        "id": "1mrt8zpW8NfR",
        "colab_type": "code",
        "colab": {}
      },
      "source": [
        "from keras import models\n",
        "from keras import layers\n"
      ],
      "execution_count": 9,
      "outputs": []
    },
    {
      "cell_type": "code",
      "metadata": {
        "id": "iMz6uV6L8lam",
        "colab_type": "code",
        "colab": {}
      },
      "source": [
        "net = models.Sequential()\n",
        "net.add(layers.Dense(512, activation='relu', input_shape=(28 * 28,)))\n",
        "net.add(layers.Dense(10, activation='softmax'))"
      ],
      "execution_count": 10,
      "outputs": []
    },
    {
      "cell_type": "markdown",
      "metadata": {
        "id": "VtVzp-YkGD97",
        "colab_type": "text"
      },
      "source": [
        "*compilation step*\n",
        "\n",
        "* A loss function how we measure our performance on the training data\n",
        "* An optimizer the mechanism in which, the network will update based on the data and loss function\n",
        "* Metrics to monitor during testing and training in this case accuracy\n"
      ]
    },
    {
      "cell_type": "markdown",
      "metadata": {
        "id": "6J0Uyra69waq",
        "colab_type": "text"
      },
      "source": [
        "*Compilation Step*"
      ]
    },
    {
      "cell_type": "code",
      "metadata": {
        "id": "Je2i0hZI9qqH",
        "colab_type": "code",
        "colab": {}
      },
      "source": [
        "net.compile(optimizer='rmsprop',\n",
        "            loss='categorical_crossentropy',\n",
        "            metrics=['accuracy'])"
      ],
      "execution_count": 11,
      "outputs": []
    },
    {
      "cell_type": "markdown",
      "metadata": {
        "id": "Jvuq-qQk-Z52",
        "colab_type": "text"
      },
      "source": [
        "*Preparing the data*"
      ]
    },
    {
      "cell_type": "code",
      "metadata": {
        "id": "9nws3lMO-dt4",
        "colab_type": "code",
        "colab": {}
      },
      "source": [
        "train_images = train_images.reshape((60000, 28 * 28))\n",
        "train_images = train_images.astype('float32') / 255\n",
        "\n",
        "test_images = test_images.reshape((10000, 28 * 28))\n",
        "test_images = test_images.astype('float32') / 255"
      ],
      "execution_count": 12,
      "outputs": []
    },
    {
      "cell_type": "markdown",
      "metadata": {
        "id": "MeIUktuMAc74",
        "colab_type": "text"
      },
      "source": [
        "*Preparing the labels*"
      ]
    },
    {
      "cell_type": "code",
      "metadata": {
        "id": "ewzqmG1GAk-x",
        "colab_type": "code",
        "colab": {}
      },
      "source": [
        "from keras.utils import to_categorical\n",
        "\n",
        "train_lables = to_categorical(train_lables)\n",
        "test_labels = to_categorical(test_labels)"
      ],
      "execution_count": 13,
      "outputs": []
    },
    {
      "cell_type": "code",
      "metadata": {
        "id": "UzFFbkPqBIPF",
        "colab_type": "code",
        "colab": {
          "base_uri": "https://localhost:8080/",
          "height": 235
        },
        "outputId": "7629b7fc-ed7b-410f-e2af-30d9764583d5"
      },
      "source": [
        "net.fit(train_images, train_lables, epochs=5, batch_size=128)"
      ],
      "execution_count": 14,
      "outputs": [
        {
          "output_type": "stream",
          "text": [
            "Epoch 1/5\n",
            "60000/60000 [==============================] - 5s 76us/step - loss: 0.2570 - accuracy: 0.9257\n",
            "Epoch 2/5\n",
            "60000/60000 [==============================] - 4s 72us/step - loss: 0.1047 - accuracy: 0.9689\n",
            "Epoch 3/5\n",
            "60000/60000 [==============================] - 4s 74us/step - loss: 0.0683 - accuracy: 0.9791\n",
            "Epoch 4/5\n",
            "60000/60000 [==============================] - 4s 75us/step - loss: 0.0496 - accuracy: 0.9854\n",
            "Epoch 5/5\n",
            "60000/60000 [==============================] - 4s 75us/step - loss: 0.0380 - accuracy: 0.9886\n"
          ],
          "name": "stdout"
        },
        {
          "output_type": "execute_result",
          "data": {
            "text/plain": [
              "<keras.callbacks.callbacks.History at 0x7feefbc5a8d0>"
            ]
          },
          "metadata": {
            "tags": []
          },
          "execution_count": 14
        }
      ]
    },
    {
      "cell_type": "markdown",
      "metadata": {
        "id": "rpcy-ArIFEyo",
        "colab_type": "text"
      },
      "source": [
        "The quantities displayed above are the loss and accuracy of the training. \n"
      ]
    },
    {
      "cell_type": "code",
      "metadata": {
        "id": "okKpzjNVFXaC",
        "colab_type": "code",
        "colab": {
          "base_uri": "https://localhost:8080/",
          "height": 35
        },
        "outputId": "d9e1c5fe-4ac2-4329-eecd-0a9eafdf8309"
      },
      "source": [
        "test_loss, test_acc = net.evaluate(test_images, test_labels)"
      ],
      "execution_count": 15,
      "outputs": [
        {
          "output_type": "stream",
          "text": [
            "10000/10000 [==============================] - 0s 49us/step\n"
          ],
          "name": "stdout"
        }
      ]
    },
    {
      "cell_type": "code",
      "metadata": {
        "id": "oMOMjBuSFqSF",
        "colab_type": "code",
        "colab": {
          "base_uri": "https://localhost:8080/",
          "height": 35
        },
        "outputId": "5277ddc3-6491-40d0-d147-a18eb04f5872"
      },
      "source": [
        "print(\"test_acc:\", test_acc)"
      ],
      "execution_count": 16,
      "outputs": [
        {
          "output_type": "stream",
          "text": [
            "test_acc: 0.9803000092506409\n"
          ],
          "name": "stdout"
        }
      ]
    },
    {
      "cell_type": "markdown",
      "metadata": {
        "id": "OdGdlv9hPGI5",
        "colab_type": "text"
      },
      "source": [
        "#2.2 Data representations for neural networks"
      ]
    },
    {
      "cell_type": "markdown",
      "metadata": {
        "id": "YB-8ltxoPUVC",
        "colab_type": "text"
      },
      "source": [
        "The data in the previous example was stored in a multidimensional Numpy array or *tensors*"
      ]
    },
    {
      "cell_type": "markdown",
      "metadata": {
        "id": "N9PSIUmnPrLq",
        "colab_type": "text"
      },
      "source": [
        "A simple explanation of a tensor is a container for data--primarily numeric data. In the context of tensors a *dimension* is often called an *axis*."
      ]
    },
    {
      "cell_type": "markdown",
      "metadata": {
        "id": "ZcmeMVKMQ4-p",
        "colab_type": "text"
      },
      "source": [
        "# 2.2.1 Scalars (0D tensors)"
      ]
    },
    {
      "cell_type": "markdown",
      "metadata": {
        "id": "jst8IE1dRqP0",
        "colab_type": "text"
      },
      "source": [
        "A 0D tensor containing a only one number is called a *scalar*"
      ]
    },
    {
      "cell_type": "markdown",
      "metadata": {
        "id": "5Z7Aaml4UGHF",
        "colab_type": "text"
      },
      "source": [
        "In Numpy, a float32 or float64 number is a scalar tensor. The number of axes of a tensor is called it's *rank*."
      ]
    },
    {
      "cell_type": "code",
      "metadata": {
        "id": "6v-Vqb2STp_d",
        "colab_type": "code",
        "colab": {
          "base_uri": "https://localhost:8080/",
          "height": 35
        },
        "outputId": "2317af42-c7e9-4bc4-d6ca-8ae54171ad32"
      },
      "source": [
        "import numpy as np\n",
        "x = np.array(12)\n",
        "x"
      ],
      "execution_count": 17,
      "outputs": [
        {
          "output_type": "execute_result",
          "data": {
            "text/plain": [
              "array(12)"
            ]
          },
          "metadata": {
            "tags": []
          },
          "execution_count": 17
        }
      ]
    },
    {
      "cell_type": "code",
      "metadata": {
        "id": "_rqzHeyGT-xr",
        "colab_type": "code",
        "colab": {
          "base_uri": "https://localhost:8080/",
          "height": 35
        },
        "outputId": "146c8781-8ac8-433f-b612-64b9c5268ece"
      },
      "source": [
        "x.ndim"
      ],
      "execution_count": 18,
      "outputs": [
        {
          "output_type": "execute_result",
          "data": {
            "text/plain": [
              "0"
            ]
          },
          "metadata": {
            "tags": []
          },
          "execution_count": 18
        }
      ]
    },
    {
      "cell_type": "markdown",
      "metadata": {
        "id": "h-wcb0b_UrVl",
        "colab_type": "text"
      },
      "source": [
        "#2.2.2 Vectors (1D tensors)"
      ]
    },
    {
      "cell_type": "markdown",
      "metadata": {
        "id": "EMp_uGGPVONk",
        "colab_type": "text"
      },
      "source": [
        "*Vector* or 1D tensor is an array of numbers."
      ]
    },
    {
      "cell_type": "markdown",
      "metadata": {
        "id": "qANUK_vxQFZu",
        "colab_type": "text"
      },
      "source": [
        "A 1D tensor has exactly one axis."
      ]
    },
    {
      "cell_type": "code",
      "metadata": {
        "id": "YhSn4F82VM8Y",
        "colab_type": "code",
        "colab": {}
      },
      "source": [
        "x = np.array([12, 3, 6, 14, 7])"
      ],
      "execution_count": 19,
      "outputs": []
    },
    {
      "cell_type": "code",
      "metadata": {
        "id": "g2eEGRxIQv5F",
        "colab_type": "code",
        "colab": {
          "base_uri": "https://localhost:8080/",
          "height": 35
        },
        "outputId": "19191a67-2f86-46ca-f685-15cf4c337b38"
      },
      "source": [
        "x"
      ],
      "execution_count": 20,
      "outputs": [
        {
          "output_type": "execute_result",
          "data": {
            "text/plain": [
              "array([12,  3,  6, 14,  7])"
            ]
          },
          "metadata": {
            "tags": []
          },
          "execution_count": 20
        }
      ]
    },
    {
      "cell_type": "code",
      "metadata": {
        "id": "kWRRQ3CCQz81",
        "colab_type": "code",
        "colab": {
          "base_uri": "https://localhost:8080/",
          "height": 35
        },
        "outputId": "eb0410b2-9d95-40cb-956b-115b8923f035"
      },
      "source": [
        "x.ndim"
      ],
      "execution_count": 21,
      "outputs": [
        {
          "output_type": "execute_result",
          "data": {
            "text/plain": [
              "1"
            ]
          },
          "metadata": {
            "tags": []
          },
          "execution_count": 21
        }
      ]
    },
    {
      "cell_type": "markdown",
      "metadata": {
        "id": "-X-4R-XeRFgl",
        "colab_type": "text"
      },
      "source": [
        "A vector with five entries or elements is a *5-dimensional vector*.\n",
        "*Dimensionality* can denote the number of entries or elements along a specific axis or the number of axis in a tensor. So a 5D tensor would be a *tensor of rank 5*.\n"
      ]
    },
    {
      "cell_type": "markdown",
      "metadata": {
        "id": "pgjovIP6SDER",
        "colab_type": "text"
      },
      "source": [
        "#2.2.3 Matrices (2D tensors)"
      ]
    },
    {
      "cell_type": "markdown",
      "metadata": {
        "id": "TyNqB71iSKeB",
        "colab_type": "text"
      },
      "source": [
        "An array of vectors is a *matrix*, or 2D tensor. A matrix has two axes referred to as *rows* and *columns*.\n",
        "A visual interpretation of a matrix as a rectangular grid of numbers."
      ]
    },
    {
      "cell_type": "code",
      "metadata": {
        "id": "30GTlxolTcqn",
        "colab_type": "code",
        "colab": {}
      },
      "source": [
        "x = np.array( [[5, 78, 2, 34, 0],\n",
        "             [6, 79, 3, 35, 1],\n",
        "             [7, 80, 4, 36, 2]])"
      ],
      "execution_count": 23,
      "outputs": []
    },
    {
      "cell_type": "code",
      "metadata": {
        "id": "U98au2vOUCQB",
        "colab_type": "code",
        "colab": {
          "base_uri": "https://localhost:8080/",
          "height": 35
        },
        "outputId": "1845933b-99bc-4260-f0b9-0b96e93c8d1d"
      },
      "source": [
        "x.ndim"
      ],
      "execution_count": 24,
      "outputs": [
        {
          "output_type": "execute_result",
          "data": {
            "text/plain": [
              "2"
            ]
          },
          "metadata": {
            "tags": []
          },
          "execution_count": 24
        }
      ]
    },
    {
      "cell_type": "markdown",
      "metadata": {
        "id": "SAYLnLETUOwh",
        "colab_type": "text"
      },
      "source": [
        "The entries from the first axis are called the *rows*, and the elements from the second axis are called the *columns*. [5, 78, 2, 34, 0] is the first row of x and [5, 6, 7] is the first column."
      ]
    }
  ]
}